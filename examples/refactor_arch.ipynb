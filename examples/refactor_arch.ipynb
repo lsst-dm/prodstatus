{
 "cells": [
  {
   "cell_type": "markdown",
   "id": "1db24721-1600-4653-9529-397bf4dd08c0",
   "metadata": {},
   "source": [
    "# Refactored `prodstatus` basics"
   ]
  },
  {
   "cell_type": "markdown",
   "id": "4e19fb85-d7e1-48a8-b4c1-19c152032e29",
   "metadata": {},
   "source": [
    "Needed imports:"
   ]
  },
  {
   "cell_type": "code",
   "execution_count": 1,
   "id": "1c60bb0a-8da2-4d3d-bba2-d822286c10fd",
   "metadata": {},
   "outputs": [],
   "source": [
    "from tempfile import TemporaryDirectory\n",
    "from unittest import mock\n",
    "from os import environ\n",
    "from pathlib import Path\n",
    "import pprint\n",
    "import dataclasses"
   ]
  },
  {
   "cell_type": "code",
   "execution_count": 2,
   "id": "0bf63865-45b3-4482-ae50-7f8d00f42f0f",
   "metadata": {},
   "outputs": [],
   "source": [
    "from jira import JIRA\n",
    "import pandas as pd\n",
    "import numpy as np\n",
    "import yaml"
   ]
  },
  {
   "cell_type": "code",
   "execution_count": 3,
   "id": "ded64c87-cb8d-4385-b08b-64541b463b70",
   "metadata": {},
   "outputs": [],
   "source": [
    "from lsst.ctrl.bps import BpsConfig\n",
    "from lsst.prodstatus.Workflow import Workflow\n",
    "from lsst.prodstatus.Step import Step\n",
    "from lsst.prodstatus.Campaign import Campaign"
   ]
  },
  {
   "cell_type": "markdown",
   "id": "9c83db36-bf8d-4cab-86a4-c7d9d51cbc97",
   "metadata": {},
   "source": [
    "Make a temporary test directory that will get automatically cleaned up:"
   ]
  },
  {
   "cell_type": "code",
   "execution_count": 4,
   "id": "ae3582c9-b235-417d-9041-b0a58d68a07c",
   "metadata": {},
   "outputs": [
    {
     "data": {
      "text/plain": [
       "'/tmp/tmpbao5anzs'"
      ]
     },
     "execution_count": 4,
     "metadata": {},
     "output_type": "execute_result"
    }
   ],
   "source": [
    "test_dir_itself = TemporaryDirectory()\n",
    "test_dir = test_dir_itself.name\n",
    "test_dir"
   ]
  },
  {
   "cell_type": "markdown",
   "id": "1be78b84-14df-4b9e-b1a1-e868faf1df01",
   "metadata": {},
   "source": [
    "Make an object that takes the same calls an an instance of the jira client, but instead of actually doing anything just keeps track of how its called."
   ]
  },
  {
   "cell_type": "code",
   "execution_count": 5,
   "id": "eeb70c2f-9b23-4442-8d3b-671475732562",
   "metadata": {},
   "outputs": [],
   "source": [
    "with mock.patch('jira.JIRA', spec=True) as MockJIRA:\n",
    "    jira = MockJIRA()"
   ]
  },
  {
   "cell_type": "code",
   "execution_count": 6,
   "id": "4aeb8500-053b-4e1e-bbe2-5e6860c168b5",
   "metadata": {},
   "outputs": [
    {
     "data": {
      "text/plain": [
       "<jira.client.JIRA at 0x7fed610affa0>"
      ]
     },
     "execution_count": 6,
     "metadata": {},
     "output_type": "execute_result"
    }
   ],
   "source": [
    "jira"
   ]
  },
  {
   "cell_type": "markdown",
   "id": "afc1c6c3-8d1b-4e8f-bfd3-4ba8f535ca75",
   "metadata": {},
   "source": [
    "## Workflows"
   ]
  },
  {
   "cell_type": "markdown",
   "id": "3fc0c92a-721d-4d02-9606-50d49e47ea0f",
   "metadata": {},
   "source": [
    "### A minimal workflow"
   ]
  },
  {
   "cell_type": "code",
   "execution_count": 7,
   "id": "9398872a-d01d-4f8e-b442-99ae4b4ddc56",
   "metadata": {},
   "outputs": [],
   "source": [
    "test_workflow_name = 'Alice'\n",
    "bps_config_path = Path(\n",
    "    environ[\"PRODSTATUS_DIR\"], \"tests\", \"data\", \"bps_config_base.yaml\"\n",
    ")\n",
    "bps_config = BpsConfig(bps_config_path)"
   ]
  },
  {
   "cell_type": "markdown",
   "id": "a84ca7fd-1163-4a95-9f59-95ab8ab3a99f",
   "metadata": {},
   "source": [
    "These are enought to make the required elements of a `Workflow` instance:"
   ]
  },
  {
   "cell_type": "code",
   "execution_count": 8,
   "id": "ea71e73f-bd06-4137-ba9d-66710ef95283",
   "metadata": {},
   "outputs": [
    {
     "name": "stdout",
     "output_type": "stream",
     "text": [
      "Workflow\n",
      "name: Alice\n",
      "issue name: None\n",
      "step: None\n",
      "band: all\n",
      "BPS config dataQuery: instrument='LSSTCam-imSim' and skymap='DC2'\n",
      "exposures: None\n",
      "\n"
     ]
    }
   ],
   "source": [
    "workflow = Workflow(bps_config, test_workflow_name)\n",
    "print(workflow)"
   ]
  },
  {
   "cell_type": "markdown",
   "id": "72742c27-aa0c-49b3-8536-d7924073fa62",
   "metadata": {},
   "source": [
    "You can save it as files in a directory:"
   ]
  },
  {
   "cell_type": "code",
   "execution_count": 9,
   "id": "586d6953-dc59-4517-ba56-99d4e88f8d28",
   "metadata": {},
   "outputs": [
    {
     "data": {
      "text/plain": [
       "'/tmp/tmpa0t1_lgr'"
      ]
     },
     "execution_count": 9,
     "metadata": {},
     "output_type": "execute_result"
    }
   ],
   "source": [
    "test_dir_itself = TemporaryDirectory()\n",
    "test_dir = test_dir_itself.name\n",
    "test_dir"
   ]
  },
  {
   "cell_type": "code",
   "execution_count": 10,
   "id": "fadf4b7b-2067-4ad5-9e7d-8d3cda2e6b2e",
   "metadata": {},
   "outputs": [],
   "source": [
    "workflow.to_files(test_dir)"
   ]
  },
  {
   "cell_type": "code",
   "execution_count": 11,
   "id": "cbd8dcfe-fd94-46b8-b4a8-bda10c13bd2f",
   "metadata": {},
   "outputs": [
    {
     "name": "stdout",
     "output_type": "stream",
     "text": [
      "/tmp/tmpa0t1_lgr\n",
      "/tmp/tmpa0t1_lgr/Alice\n",
      "/tmp/tmpa0t1_lgr/Alice/workflow.yaml\n",
      "/tmp/tmpa0t1_lgr/Alice/bps_config.yaml\n"
     ]
    }
   ],
   "source": [
    "!find {test_dir}"
   ]
  },
  {
   "cell_type": "code",
   "execution_count": 12,
   "id": "6b18dd20-7931-423f-abd5-405923951120",
   "metadata": {},
   "outputs": [
    {
     "name": "stdout",
     "output_type": "stream",
     "text": [
      "band: all\n",
      "name: Alice\n"
     ]
    }
   ],
   "source": [
    "!cat {test_dir}/{test_workflow_name}/workflow.yaml"
   ]
  },
  {
   "cell_type": "markdown",
   "id": "8fbe010f-02df-45e9-84f5-1b74ca1066c8",
   "metadata": {},
   "source": [
    "### Read it back again"
   ]
  },
  {
   "cell_type": "code",
   "execution_count": 13,
   "id": "71eac122-f9e4-4043-b6bb-a9fb7b7b8cd8",
   "metadata": {},
   "outputs": [
    {
     "name": "stdout",
     "output_type": "stream",
     "text": [
      "Workflow\n",
      "name: Alice\n",
      "issue name: None\n",
      "step: None\n",
      "band: all\n",
      "BPS config dataQuery: instrument='LSSTCam-imSim' and skymap='DC2'\n",
      "exposures: None\n",
      "\n"
     ]
    }
   ],
   "source": [
    "reread_workflow = Workflow.from_files(test_dir, 'Alice')\n",
    "print(reread_workflow)"
   ]
  },
  {
   "cell_type": "markdown",
   "id": "906256bb-af50-4186-bc65-c8cd06706771",
   "metadata": {},
   "source": [
    "### Split by band"
   ]
  },
  {
   "cell_type": "code",
   "execution_count": 14,
   "id": "fda4d5ea-c029-4410-bcc2-482c795daa4c",
   "metadata": {},
   "outputs": [],
   "source": [
    "band_workflows = workflow.split_by_band()"
   ]
  },
  {
   "cell_type": "code",
   "execution_count": 15,
   "id": "dddcd702-680c-4a56-ae17-03949e720602",
   "metadata": {},
   "outputs": [
    {
     "name": "stdout",
     "output_type": "stream",
     "text": [
      "Workflow\n",
      "name: Alice_u\n",
      "issue name: None\n",
      "step: None\n",
      "band: u\n",
      "BPS config dataQuery: (instrument='LSSTCam-imSim' and skymap='DC2') and (band == 'u')\n",
      "exposures: None\n",
      "\n",
      "Workflow\n",
      "name: Alice_g\n",
      "issue name: None\n",
      "step: None\n",
      "band: g\n",
      "BPS config dataQuery: (instrument='LSSTCam-imSim' and skymap='DC2') and (band == 'g')\n",
      "exposures: None\n",
      "\n",
      "Workflow\n",
      "name: Alice_r\n",
      "issue name: None\n",
      "step: None\n",
      "band: r\n",
      "BPS config dataQuery: (instrument='LSSTCam-imSim' and skymap='DC2') and (band == 'r')\n",
      "exposures: None\n",
      "\n",
      "Workflow\n",
      "name: Alice_i\n",
      "issue name: None\n",
      "step: None\n",
      "band: i\n",
      "BPS config dataQuery: (instrument='LSSTCam-imSim' and skymap='DC2') and (band == 'i')\n",
      "exposures: None\n",
      "\n",
      "Workflow\n",
      "name: Alice_z\n",
      "issue name: None\n",
      "step: None\n",
      "band: z\n",
      "BPS config dataQuery: (instrument='LSSTCam-imSim' and skymap='DC2') and (band == 'z')\n",
      "exposures: None\n",
      "\n",
      "Workflow\n",
      "name: Alice_y\n",
      "issue name: None\n",
      "step: None\n",
      "band: y\n",
      "BPS config dataQuery: (instrument='LSSTCam-imSim' and skymap='DC2') and (band == 'y')\n",
      "exposures: None\n",
      "\n"
     ]
    }
   ],
   "source": [
    "for workflow in band_workflows:\n",
    "    print(workflow)"
   ]
  },
  {
   "cell_type": "markdown",
   "id": "50c53ccd-e984-4841-80a5-6b2a3b50af30",
   "metadata": {
    "tags": []
   },
   "source": [
    "### Splitting into groups of exposures"
   ]
  },
  {
   "cell_type": "markdown",
   "id": "4dd3a519-d036-41db-8224-5c71d7a51041",
   "metadata": {},
   "source": [
    "Let's make a table of exposures:"
   ]
  },
  {
   "cell_type": "code",
   "execution_count": 16,
   "id": "162d377f-0105-4413-9233-cc9a56b3abf1",
   "metadata": {},
   "outputs": [],
   "source": [
    "def make_random_exposure_table(num_exposures, bands=tuple('ugrizy'), random_number_seed=42):\n",
    "    random_number_generator = np.random.default_rng(random_number_seed)\n",
    "    bands = random_number_generator.choice(np.array(bands), num_exposures)\n",
    "    exp_ids = random_number_generator.choice(10000, num_exposures, replace=False)\n",
    "    exposures = pd.DataFrame({'band': bands, 'exp_id': exp_ids}).sort_values('exp_id').set_index('exp_id', drop=False)\n",
    "    return exposures"
   ]
  },
  {
   "cell_type": "code",
   "execution_count": 17,
   "id": "43eecb6c-ba57-489d-a877-ef42807ee322",
   "metadata": {},
   "outputs": [
    {
     "data": {
      "text/html": [
       "<div>\n",
       "<style scoped>\n",
       "    .dataframe tbody tr th:only-of-type {\n",
       "        vertical-align: middle;\n",
       "    }\n",
       "\n",
       "    .dataframe tbody tr th {\n",
       "        vertical-align: top;\n",
       "    }\n",
       "\n",
       "    .dataframe thead th {\n",
       "        text-align: right;\n",
       "    }\n",
       "</style>\n",
       "<table border=\"1\" class=\"dataframe\">\n",
       "  <thead>\n",
       "    <tr style=\"text-align: right;\">\n",
       "      <th></th>\n",
       "      <th>band</th>\n",
       "      <th>exp_id</th>\n",
       "    </tr>\n",
       "    <tr>\n",
       "      <th>exp_id</th>\n",
       "      <th></th>\n",
       "      <th></th>\n",
       "    </tr>\n",
       "  </thead>\n",
       "  <tbody>\n",
       "    <tr>\n",
       "      <th>1280</th>\n",
       "      <td>g</td>\n",
       "      <td>1280</td>\n",
       "    </tr>\n",
       "    <tr>\n",
       "      <th>4503</th>\n",
       "      <td>r</td>\n",
       "      <td>4503</td>\n",
       "    </tr>\n",
       "    <tr>\n",
       "      <th>5130</th>\n",
       "      <td>g</td>\n",
       "      <td>5130</td>\n",
       "    </tr>\n",
       "    <tr>\n",
       "      <th>5260</th>\n",
       "      <td>g</td>\n",
       "      <td>5260</td>\n",
       "    </tr>\n",
       "    <tr>\n",
       "      <th>7171</th>\n",
       "      <td>r</td>\n",
       "      <td>7171</td>\n",
       "    </tr>\n",
       "    <tr>\n",
       "      <th>7352</th>\n",
       "      <td>r</td>\n",
       "      <td>7352</td>\n",
       "    </tr>\n",
       "    <tr>\n",
       "      <th>7606</th>\n",
       "      <td>g</td>\n",
       "      <td>7606</td>\n",
       "    </tr>\n",
       "    <tr>\n",
       "      <th>7857</th>\n",
       "      <td>g</td>\n",
       "      <td>7857</td>\n",
       "    </tr>\n",
       "    <tr>\n",
       "      <th>8396</th>\n",
       "      <td>g</td>\n",
       "      <td>8396</td>\n",
       "    </tr>\n",
       "    <tr>\n",
       "      <th>9748</th>\n",
       "      <td>r</td>\n",
       "      <td>9748</td>\n",
       "    </tr>\n",
       "  </tbody>\n",
       "</table>\n",
       "</div>"
      ],
      "text/plain": [
       "       band  exp_id\n",
       "exp_id             \n",
       "1280      g    1280\n",
       "4503      r    4503\n",
       "5130      g    5130\n",
       "5260      g    5260\n",
       "7171      r    7171\n",
       "7352      r    7352\n",
       "7606      g    7606\n",
       "7857      g    7857\n",
       "8396      g    8396\n",
       "9748      r    9748"
      ]
     },
     "execution_count": 17,
     "metadata": {},
     "output_type": "execute_result"
    }
   ],
   "source": [
    "exposures = make_random_exposure_table(10, bands=('g', 'r'))\n",
    "exposures"
   ]
  },
  {
   "cell_type": "markdown",
   "id": "9ca51810-ad41-44f0-89b8-01d6177985b6",
   "metadata": {},
   "source": [
    "Now, create a \"big\" instance of `Workflow` that does all the exposures:"
   ]
  },
  {
   "cell_type": "code",
   "execution_count": 18,
   "id": "aa015955-1beb-4662-b21e-fef6be5192f3",
   "metadata": {},
   "outputs": [],
   "source": [
    "big_workflow = Workflow(bps_config, 'Bob', exposures=exposures)"
   ]
  },
  {
   "cell_type": "markdown",
   "id": "5dbd974b-f69d-4abc-b445-a6492c980d21",
   "metadata": {},
   "source": [
    "Now lets split this workflow up into several workflows, one for each band:"
   ]
  },
  {
   "cell_type": "code",
   "execution_count": 19,
   "id": "63c362c6-1f9d-4a47-9155-3cd4489a4104",
   "metadata": {},
   "outputs": [
    {
     "name": "stdout",
     "output_type": "stream",
     "text": [
      "Workflow\n",
      "name: Bob_1\n",
      "issue name: None\n",
      "step: None\n",
      "band: all\n",
      "BPS config dataQuery: (instrument='LSSTCam-imSim' and skymap='DC2') and (exposure >= 1280) and (exposure <= 5260)\n",
      "number of exposures: 4\n",
      "min exposure id: 1280\n",
      "max exposure id: 5260\n",
      "exposure counts by band: {'g': 3, 'r': 1}\n",
      "\n",
      "Workflow\n",
      "name: Bob_2\n",
      "issue name: None\n",
      "step: None\n",
      "band: all\n",
      "BPS config dataQuery: (instrument='LSSTCam-imSim' and skymap='DC2') and (exposure >= 7171) and (exposure <= 7606)\n",
      "number of exposures: 3\n",
      "min exposure id: 7171\n",
      "max exposure id: 7606\n",
      "exposure counts by band: {'r': 2, 'g': 1}\n",
      "\n",
      "Workflow\n",
      "name: Bob_3\n",
      "issue name: None\n",
      "step: None\n",
      "band: all\n",
      "BPS config dataQuery: (instrument='LSSTCam-imSim' and skymap='DC2') and (exposure >= 7857) and (exposure <= 9748)\n",
      "number of exposures: 3\n",
      "min exposure id: 7857\n",
      "max exposure id: 9748\n",
      "exposure counts by band: {'g': 2, 'r': 1}\n",
      "\n"
     ]
    }
   ],
   "source": [
    "exp_workflows = big_workflow.split_by_exposure(4)\n",
    "for workflow in exp_workflows:\n",
    "    print(workflow)"
   ]
  },
  {
   "cell_type": "markdown",
   "id": "a266b418-87c2-4196-9839-01abf5333696",
   "metadata": {},
   "source": [
    "## Step"
   ]
  },
  {
   "cell_type": "markdown",
   "id": "86cb53af-85a0-441b-ae3f-8097ead8e6c3",
   "metadata": {},
   "source": [
    "Step creation takes a dictionary of parameters for `Workflow.split_by_exposure`:"
   ]
  },
  {
   "cell_type": "code",
   "execution_count": 20,
   "id": "0467bdc8-bfd5-4290-abd4-83bb8227b683",
   "metadata": {},
   "outputs": [],
   "source": [
    "exposure_groups = {\n",
    "    'group_size': 4,\n",
    "    'skip_groups': 0,\n",
    "    'num_groups': None\n",
    "}"
   ]
  },
  {
   "cell_type": "markdown",
   "id": "770f22ab-e715-49ca-b717-a2eb1fef9577",
   "metadata": {},
   "source": [
    "Note that `skip_groups` defaults to 0, so it could be left off. A `num_groups` of `None` indicates \"as many as it takes\", and the default is `None`, so this could be left off as well:"
   ]
  },
  {
   "cell_type": "code",
   "execution_count": 21,
   "id": "cc799732-3c49-4a1a-8bbb-1ed9833155cc",
   "metadata": {},
   "outputs": [
    {
     "name": "stdout",
     "output_type": "stream",
     "text": [
      "Help on function split_by_exposure in module lsst.prodstatus.Workflow:\n",
      "\n",
      "split_by_exposure(self, group_size=None, skip_groups=0, num_groups=None)\n",
      "    Split the workflow by exposure number.\n",
      "    \n",
      "    Parameters\n",
      "    ----------\n",
      "    group_size : `int` optional\n",
      "        The approximate size of the group. The default is None, which\n",
      "        causes the method to return a single workflow with all\n",
      "        exposures.\n",
      "    skip_groups : `int` optional\n",
      "        The number of groups to skip. The default is 0 (no skipped groups).\n",
      "    num_groups : `int` optional\n",
      "        The maximum number for groups. The default is None,\n",
      "        for all groups\n",
      "    \n",
      "    Returns\n",
      "    -------\n",
      "    workflows : `List[Workflow]`\n",
      "        A list of workflows.\n",
      "\n"
     ]
    }
   ],
   "source": [
    "help(Workflow.split_by_exposure)"
   ]
  },
  {
   "cell_type": "markdown",
   "id": "a0f3f891-4c7e-4993-ac4c-326d7a09fdc1",
   "metadata": {},
   "source": [
    "Now, let's make a `Step`:"
   ]
  },
  {
   "cell_type": "code",
   "execution_count": 22,
   "id": "991e9aa3-e6a9-487b-bb39-9c9f977cc320",
   "metadata": {},
   "outputs": [],
   "source": [
    "step = Step.generate_new('step99', base_bps_config=bps_config, split_bands=True, exposure_groups=exposure_groups, exposures=exposures, workflow_base_name='s99wf')"
   ]
  },
  {
   "cell_type": "code",
   "execution_count": 23,
   "id": "fb690077-af31-4cc8-9554-dd5a140c5ea6",
   "metadata": {},
   "outputs": [
    {
     "name": "stdout",
     "output_type": "stream",
     "text": [
      "Step\n",
      "name: step99\n",
      "issue name: None\n",
      "split bands: True\n",
      "exposure groups: {'group_size': 4, 'skip_groups': 0, 'num_groups': None}\n",
      "workflows:\n",
      " - s99wf_step99_g_1 (issue None) with dataQuery ((instrument='LSSTCam-imSim' and skymap='DC2') and (band == 'g')) and (exposure >= 1280) and (exposure <= 5260)\n",
      " - s99wf_step99_g_2 (issue None) with dataQuery ((instrument='LSSTCam-imSim' and skymap='DC2') and (band == 'g')) and (exposure >= 7606) and (exposure <= 8396)\n",
      " - s99wf_step99_r (issue None) with dataQuery (instrument='LSSTCam-imSim' and skymap='DC2') and (band == 'r')\n"
     ]
    }
   ],
   "source": [
    "print(step)"
   ]
  },
  {
   "cell_type": "code",
   "execution_count": 24,
   "id": "adf550e9-dc6a-44c7-97c6-1b1731089f20",
   "metadata": {},
   "outputs": [
    {
     "data": {
      "text/plain": [
       "'/tmp/tmp7tvqk3nq'"
      ]
     },
     "execution_count": 24,
     "metadata": {},
     "output_type": "execute_result"
    }
   ],
   "source": [
    "test_dir_itself = TemporaryDirectory()\n",
    "test_dir = test_dir_itself.name\n",
    "test_dir"
   ]
  },
  {
   "cell_type": "code",
   "execution_count": 25,
   "id": "a13c0edd-29b5-4539-ac25-281025e5962c",
   "metadata": {},
   "outputs": [],
   "source": [
    "step.to_files(test_dir)"
   ]
  },
  {
   "cell_type": "code",
   "execution_count": 26,
   "id": "9c76382f-2b68-430b-96ff-2bc17ef266dd",
   "metadata": {},
   "outputs": [
    {
     "name": "stdout",
     "output_type": "stream",
     "text": [
      "/tmp/tmp7tvqk3nq\n",
      "/tmp/tmp7tvqk3nq/step99\n",
      "/tmp/tmp7tvqk3nq/step99/workflows\n",
      "/tmp/tmp7tvqk3nq/step99/workflows/s99wf_step99_g_1\n",
      "/tmp/tmp7tvqk3nq/step99/workflows/s99wf_step99_g_1/workflow.yaml\n",
      "/tmp/tmp7tvqk3nq/step99/workflows/s99wf_step99_g_1/explist.txt\n",
      "/tmp/tmp7tvqk3nq/step99/workflows/s99wf_step99_g_1/bps_config.yaml\n",
      "/tmp/tmp7tvqk3nq/step99/workflows/s99wf_step99_r\n",
      "/tmp/tmp7tvqk3nq/step99/workflows/s99wf_step99_r/workflow.yaml\n",
      "/tmp/tmp7tvqk3nq/step99/workflows/s99wf_step99_r/explist.txt\n",
      "/tmp/tmp7tvqk3nq/step99/workflows/s99wf_step99_r/bps_config.yaml\n",
      "/tmp/tmp7tvqk3nq/step99/workflows/s99wf_step99_g_2\n",
      "/tmp/tmp7tvqk3nq/step99/workflows/s99wf_step99_g_2/workflow.yaml\n",
      "/tmp/tmp7tvqk3nq/step99/workflows/s99wf_step99_g_2/explist.txt\n",
      "/tmp/tmp7tvqk3nq/step99/workflows/s99wf_step99_g_2/bps_config.yaml\n",
      "/tmp/tmp7tvqk3nq/step99/step.yaml\n"
     ]
    }
   ],
   "source": [
    "!find {test_dir}"
   ]
  },
  {
   "cell_type": "code",
   "execution_count": 27,
   "id": "3dd8fdf3-ed7c-40f5-9751-0b6f1fcdb571",
   "metadata": {},
   "outputs": [
    {
     "name": "stdout",
     "output_type": "stream",
     "text": [
      "exposure_groups:\n",
      "    group_size: 4\n",
      "    num_groups: null\n",
      "    skip_groups: 0\n",
      "name: step99\n",
      "split_bands: true\n",
      "workflows:\n",
      "-   issue: null\n",
      "    name: s99wf_step99_g_1\n",
      "-   issue: null\n",
      "    name: s99wf_step99_g_2\n",
      "-   issue: null\n",
      "    name: s99wf_step99_r\n"
     ]
    }
   ],
   "source": [
    "!cat {test_dir}/{step.name}/step.yaml"
   ]
  },
  {
   "cell_type": "markdown",
   "id": "faa239a6-5c49-4b24-b7ff-96c510c9f646",
   "metadata": {},
   "source": [
    "## Creating a campaign"
   ]
  },
  {
   "cell_type": "code",
   "execution_count": 28,
   "id": "8d3156fe-b917-4317-9e34-2e80d2db5dc1",
   "metadata": {},
   "outputs": [
    {
     "data": {
      "text/plain": [
       "PosixPath('/tmp/tmpumjd14hx')"
      ]
     },
     "execution_count": 28,
     "metadata": {},
     "output_type": "execute_result"
    }
   ],
   "source": [
    "campaign_def_dir = TemporaryDirectory()\n",
    "campaign_def_dir_path = Path(campaign_def_dir.name)\n",
    "campaign_def_dir_path"
   ]
  },
  {
   "cell_type": "code",
   "execution_count": 29,
   "id": "3e251b18-d597-4b3c-a7a2-990ea275695d",
   "metadata": {},
   "outputs": [
    {
     "data": {
      "text/plain": [
       "PosixPath('/tmp/tmpumjd14hx/base_bps_config.yaml')"
      ]
     },
     "execution_count": 29,
     "metadata": {},
     "output_type": "execute_result"
    }
   ],
   "source": [
    "bps_config_path = campaign_def_dir_path.joinpath('base_bps_config.yaml')\n",
    "with bps_config_path.open('wt') as bps_config_io:\n",
    "    bps_config.dump(bps_config_io)\n",
    "bps_config_path"
   ]
  },
  {
   "cell_type": "code",
   "execution_count": 30,
   "id": "22fdd7c3-d30f-4cf6-b3a4-77152035dc35",
   "metadata": {},
   "outputs": [
    {
     "name": "stdout",
     "output_type": "stream",
     "text": [
      "campaign: v23_0_0_rc5/PREOPS-938\n",
      "computeSite: LSST\n",
      "defaultPreCmdOpts: --long-log --log-level=VERBOSE --log-file payload-log.json\n",
      "executionButler:\n",
      "  queue: DOMA_LSST_GOOGLE_MERGE\n",
      "iddsServer: https://aipanda015.cern.ch:443/idds\n",
      "maxJobsPerTask: 70000\n",
      "payload:\n",
      "  butlerConfig: s3://butler-us-central1-panda-dev/dc2/butler-external.yaml\n",
      "  dataQuery: instrument='LSSTCam-imSim' and skymap='DC2'\n"
     ]
    }
   ],
   "source": [
    "!head {bps_config_path}"
   ]
  },
  {
   "cell_type": "code",
   "execution_count": 31,
   "id": "eeca214b-5618-4629-8a2f-2efb53c8d9be",
   "metadata": {},
   "outputs": [
    {
     "data": {
      "text/plain": [
       "PosixPath('/tmp/tmpumjd14hx/explist.txt')"
      ]
     },
     "execution_count": 31,
     "metadata": {},
     "output_type": "execute_result"
    }
   ],
   "source": [
    "explist_path = campaign_def_dir_path.joinpath('explist.txt')\n",
    "exposures.to_csv(explist_path, header=False, index=False, sep=\" \")\n",
    "explist_path"
   ]
  },
  {
   "cell_type": "code",
   "execution_count": 32,
   "id": "52ab7736-e5c9-4c30-a6a3-6fc2d6b54a3b",
   "metadata": {},
   "outputs": [
    {
     "name": "stdout",
     "output_type": "stream",
     "text": [
      "g 1280\n",
      "r 4503\n",
      "g 5130\n",
      "g 5260\n",
      "r 7171\n",
      "r 7352\n",
      "g 7606\n",
      "g 7857\n",
      "g 8396\n",
      "r 9748\n"
     ]
    }
   ],
   "source": [
    "!head {explist_path}"
   ]
  },
  {
   "cell_type": "code",
   "execution_count": 33,
   "id": "88e0e7d8-e58f-4395-9a5c-d5459aa5ae8c",
   "metadata": {},
   "outputs": [],
   "source": [
    "campaign_config = {\n",
    "    'exposures': explist_path.as_posix(),\n",
    "    'name': 'test_campaign',\n",
    "    'steps': {\n",
    "        'step1': {'base_bps_config': bps_config_path.as_posix(), 'exposure_groups': {}, 'split_bands': True},\n",
    "        'step2': {'base_bps_config': bps_config_path.as_posix(), 'exposure_groups': {'group_size': 4}, 'split_bands': True}\n",
    "    }\n",
    "}"
   ]
  },
  {
   "cell_type": "code",
   "execution_count": 34,
   "id": "c043b524-1786-446c-806d-bfb7696631da",
   "metadata": {},
   "outputs": [
    {
     "data": {
      "text/plain": [
       "PosixPath('/tmp/tmpumjd14hx/campaign.yaml')"
      ]
     },
     "execution_count": 34,
     "metadata": {},
     "output_type": "execute_result"
    }
   ],
   "source": [
    "campaign_def_path = campaign_def_dir_path.joinpath('campaign.yaml')\n",
    "with campaign_def_path.open('wt') as campaign_def_io:\n",
    "    yaml.dump(campaign_config, campaign_def_io, indent=4)\n",
    "campaign_def_path"
   ]
  },
  {
   "cell_type": "code",
   "execution_count": 35,
   "id": "86e3dc02-6235-4cf7-878f-a9ee05939936",
   "metadata": {},
   "outputs": [
    {
     "name": "stdout",
     "output_type": "stream",
     "text": [
      "exposures: /tmp/tmpumjd14hx/explist.txt\n",
      "name: test_campaign\n",
      "steps:\n",
      "    step1:\n",
      "        base_bps_config: /tmp/tmpumjd14hx/base_bps_config.yaml\n",
      "        exposure_groups: {}\n",
      "        split_bands: true\n",
      "    step2:\n",
      "        base_bps_config: /tmp/tmpumjd14hx/base_bps_config.yaml\n",
      "        exposure_groups:\n",
      "            group_size: 4\n",
      "        split_bands: true\n"
     ]
    }
   ],
   "source": [
    "!cat {campaign_def_path}"
   ]
  },
  {
   "cell_type": "code",
   "execution_count": 36,
   "id": "e40e9931-9f28-42c1-970d-0276bd2bea54",
   "metadata": {},
   "outputs": [],
   "source": [
    "campaign = Campaign.create_from_yaml(campaign_def_path)"
   ]
  },
  {
   "cell_type": "code",
   "execution_count": 37,
   "id": "ccc9c55e-4f30-470f-b2e8-4a63c159fb9e",
   "metadata": {},
   "outputs": [
    {
     "name": "stdout",
     "output_type": "stream",
     "text": [
      "Campaign\n",
      "name: test_campaign\n",
      "issue name: None\n",
      "steps:\n",
      " - step1 (issue None) with 2 workflows\n",
      " - step2 (issue None) with 3 workflows\n"
     ]
    }
   ],
   "source": [
    "print(campaign)"
   ]
  },
  {
   "cell_type": "code",
   "execution_count": 38,
   "id": "498404b7-7f78-4f8a-8a44-e85f6fbb689e",
   "metadata": {},
   "outputs": [
    {
     "name": "stdout",
     "output_type": "stream",
     "text": [
      "Step\n",
      "name: step1\n",
      "issue name: None\n",
      "split bands: True\n",
      "exposure groups: {}\n",
      "workflows:\n",
      " - test_campaign_step1_g (issue None) with dataQuery (instrument='LSSTCam-imSim' and skymap='DC2') and (band == 'g')\n",
      " - test_campaign_step1_r (issue None) with dataQuery (instrument='LSSTCam-imSim' and skymap='DC2') and (band == 'r')\n",
      "\n",
      "Workflow\n",
      "name: test_campaign_step1_g\n",
      "issue name: None\n",
      "step: step1\n",
      "band: g\n",
      "BPS config dataQuery: (instrument='LSSTCam-imSim' and skymap='DC2') and (band == 'g')\n",
      "number of exposures: 6\n",
      "min exposure id: 1280\n",
      "max exposure id: 8396\n",
      "exposure counts by band: {'g': 6}\n",
      "\n",
      "Workflow\n",
      "name: test_campaign_step1_r\n",
      "issue name: None\n",
      "step: step1\n",
      "band: r\n",
      "BPS config dataQuery: (instrument='LSSTCam-imSim' and skymap='DC2') and (band == 'r')\n",
      "number of exposures: 4\n",
      "min exposure id: 4503\n",
      "max exposure id: 9748\n",
      "exposure counts by band: {'r': 4}\n",
      "\n",
      "Step\n",
      "name: step2\n",
      "issue name: None\n",
      "split bands: True\n",
      "exposure groups: {'group_size': 4}\n",
      "workflows:\n",
      " - test_campaign_step2_g_1 (issue None) with dataQuery ((instrument='LSSTCam-imSim' and skymap='DC2') and (band == 'g')) and (exposure >= 1280) and (exposure <= 5260)\n",
      " - test_campaign_step2_g_2 (issue None) with dataQuery ((instrument='LSSTCam-imSim' and skymap='DC2') and (band == 'g')) and (exposure >= 7606) and (exposure <= 8396)\n",
      " - test_campaign_step2_r (issue None) with dataQuery (instrument='LSSTCam-imSim' and skymap='DC2') and (band == 'r')\n",
      "\n",
      "Workflow\n",
      "name: test_campaign_step2_g_1\n",
      "issue name: None\n",
      "step: step2\n",
      "band: g\n",
      "BPS config dataQuery: ((instrument='LSSTCam-imSim' and skymap='DC2') and (band == 'g')) and (exposure >= 1280) and (exposure <= 5260)\n",
      "number of exposures: 3\n",
      "min exposure id: 1280\n",
      "max exposure id: 5260\n",
      "exposure counts by band: {'g': 3}\n",
      "\n",
      "Workflow\n",
      "name: test_campaign_step2_g_2\n",
      "issue name: None\n",
      "step: step2\n",
      "band: g\n",
      "BPS config dataQuery: ((instrument='LSSTCam-imSim' and skymap='DC2') and (band == 'g')) and (exposure >= 7606) and (exposure <= 8396)\n",
      "number of exposures: 3\n",
      "min exposure id: 7606\n",
      "max exposure id: 8396\n",
      "exposure counts by band: {'g': 3}\n",
      "\n",
      "Workflow\n",
      "name: test_campaign_step2_r\n",
      "issue name: None\n",
      "step: step2\n",
      "band: r\n",
      "BPS config dataQuery: (instrument='LSSTCam-imSim' and skymap='DC2') and (band == 'r')\n",
      "number of exposures: 4\n",
      "min exposure id: 4503\n",
      "max exposure id: 9748\n",
      "exposure counts by band: {'r': 4}\n",
      "\n"
     ]
    }
   ],
   "source": [
    "for step in campaign.steps:\n",
    "    print(step)\n",
    "    print()\n",
    "    for workflow in step.workflows:\n",
    "        print(workflow)"
   ]
  },
  {
   "cell_type": "code",
   "execution_count": 39,
   "id": "bfac6f56-b919-4781-9684-a625634b5a29",
   "metadata": {},
   "outputs": [
    {
     "data": {
      "text/plain": [
       "PosixPath('/tmp/tmpdtgc5lgd')"
      ]
     },
     "execution_count": 39,
     "metadata": {},
     "output_type": "execute_result"
    }
   ],
   "source": [
    "campaign_dir = TemporaryDirectory()\n",
    "campaign_dir_path = Path(campaign_dir.name)\n",
    "campaign_dir_path"
   ]
  },
  {
   "cell_type": "code",
   "execution_count": 40,
   "id": "20783331-854b-459e-8b49-47089f9daca8",
   "metadata": {},
   "outputs": [],
   "source": [
    "campaign.to_files(campaign_dir_path)"
   ]
  },
  {
   "cell_type": "code",
   "execution_count": 41,
   "id": "3290b00a-f547-44b9-aeae-6f4ce6e00f86",
   "metadata": {},
   "outputs": [
    {
     "name": "stdout",
     "output_type": "stream",
     "text": [
      "/tmp/tmpdtgc5lgd\n",
      "/tmp/tmpdtgc5lgd/test_campaign\n",
      "/tmp/tmpdtgc5lgd/test_campaign/campaign.yaml\n",
      "/tmp/tmpdtgc5lgd/test_campaign/steps\n",
      "/tmp/tmpdtgc5lgd/test_campaign/steps/step2\n",
      "/tmp/tmpdtgc5lgd/test_campaign/steps/step2/workflows\n",
      "/tmp/tmpdtgc5lgd/test_campaign/steps/step2/workflows/test_campaign_step2_r\n",
      "/tmp/tmpdtgc5lgd/test_campaign/steps/step2/workflows/test_campaign_step2_r/workflow.yaml\n",
      "/tmp/tmpdtgc5lgd/test_campaign/steps/step2/workflows/test_campaign_step2_r/explist.txt\n",
      "/tmp/tmpdtgc5lgd/test_campaign/steps/step2/workflows/test_campaign_step2_r/bps_config.yaml\n",
      "/tmp/tmpdtgc5lgd/test_campaign/steps/step2/workflows/test_campaign_step2_g_1\n",
      "/tmp/tmpdtgc5lgd/test_campaign/steps/step2/workflows/test_campaign_step2_g_1/workflow.yaml\n",
      "/tmp/tmpdtgc5lgd/test_campaign/steps/step2/workflows/test_campaign_step2_g_1/explist.txt\n",
      "/tmp/tmpdtgc5lgd/test_campaign/steps/step2/workflows/test_campaign_step2_g_1/bps_config.yaml\n",
      "/tmp/tmpdtgc5lgd/test_campaign/steps/step2/workflows/test_campaign_step2_g_2\n",
      "/tmp/tmpdtgc5lgd/test_campaign/steps/step2/workflows/test_campaign_step2_g_2/workflow.yaml\n",
      "/tmp/tmpdtgc5lgd/test_campaign/steps/step2/workflows/test_campaign_step2_g_2/explist.txt\n",
      "/tmp/tmpdtgc5lgd/test_campaign/steps/step2/workflows/test_campaign_step2_g_2/bps_config.yaml\n",
      "/tmp/tmpdtgc5lgd/test_campaign/steps/step2/step.yaml\n",
      "/tmp/tmpdtgc5lgd/test_campaign/steps/step1\n",
      "/tmp/tmpdtgc5lgd/test_campaign/steps/step1/workflows\n",
      "/tmp/tmpdtgc5lgd/test_campaign/steps/step1/workflows/test_campaign_step1_r\n",
      "/tmp/tmpdtgc5lgd/test_campaign/steps/step1/workflows/test_campaign_step1_r/workflow.yaml\n",
      "/tmp/tmpdtgc5lgd/test_campaign/steps/step1/workflows/test_campaign_step1_r/explist.txt\n",
      "/tmp/tmpdtgc5lgd/test_campaign/steps/step1/workflows/test_campaign_step1_r/bps_config.yaml\n",
      "/tmp/tmpdtgc5lgd/test_campaign/steps/step1/workflows/test_campaign_step1_g\n",
      "/tmp/tmpdtgc5lgd/test_campaign/steps/step1/workflows/test_campaign_step1_g/workflow.yaml\n",
      "/tmp/tmpdtgc5lgd/test_campaign/steps/step1/workflows/test_campaign_step1_g/explist.txt\n",
      "/tmp/tmpdtgc5lgd/test_campaign/steps/step1/workflows/test_campaign_step1_g/bps_config.yaml\n",
      "/tmp/tmpdtgc5lgd/test_campaign/steps/step1/step.yaml\n"
     ]
    }
   ],
   "source": [
    "!find {campaign_dir_path}"
   ]
  },
  {
   "cell_type": "code",
   "execution_count": 42,
   "id": "6a8573bd-8564-4ab5-96bb-f4a404c4466a",
   "metadata": {},
   "outputs": [
    {
     "name": "stdout",
     "output_type": "stream",
     "text": [
      "exposures: /tmp/tmpumjd14hx/explist.txt\n",
      "name: test_campaign\n",
      "steps:\n",
      "    step1:\n",
      "        base_bps_config: /tmp/tmpumjd14hx/base_bps_config.yaml\n",
      "        exposure_groups: {}\n",
      "        split_bands: true\n",
      "    step2:\n",
      "        base_bps_config: /tmp/tmpumjd14hx/base_bps_config.yaml\n",
      "        exposure_groups:\n",
      "            group_size: 4\n",
      "        split_bands: true\n"
     ]
    }
   ],
   "source": [
    "!cat {campaign_dir_path}/{campaign.name}/campaign.yaml"
   ]
  },
  {
   "cell_type": "markdown",
   "id": "a6139fa5-4f60-43e8-a1ad-a538c2c9b8ab",
   "metadata": {},
   "source": [
    "## Modification of campaigns, steps, and workflows"
   ]
  },
  {
   "cell_type": "markdown",
   "id": "6594b822-aa4f-4e01-ba95-3b7afbe42104",
   "metadata": {},
   "source": [
    "The `steps` member of a `Campaign` and the `workflows` member of `Step` are just lists of the corresponding objects: the user can add or remove them as desired."
   ]
  },
  {
   "cell_type": "markdown",
   "id": "d5236685-4d1f-439d-b0d4-bef606015a8e",
   "metadata": {},
   "source": [
    "For example, we can add a workflow to one of the steps in the `Campaign` defined above:"
   ]
  },
  {
   "cell_type": "code",
   "execution_count": 43,
   "id": "4db6b6cb-4c93-475c-a24e-cabe799c7a03",
   "metadata": {},
   "outputs": [
    {
     "name": "stdout",
     "output_type": "stream",
     "text": [
      "Campaign\n",
      "name: test_campaign\n",
      "issue name: None\n",
      "steps:\n",
      " - step1 (issue None) with 2 workflows\n",
      " - step2 (issue None) with 4 workflows\n"
     ]
    }
   ],
   "source": [
    "extra_workflow = workflow = Workflow(bps_config, 'Carol')\n",
    "campaign.steps[1].workflows.append(extra_workflow)\n",
    "print(campaign)"
   ]
  },
  {
   "cell_type": "code",
   "execution_count": 44,
   "id": "e77bb6c4-edbe-408a-a22a-2601e9d91407",
   "metadata": {},
   "outputs": [
    {
     "name": "stdout",
     "output_type": "stream",
     "text": [
      "Step\n",
      "name: step2\n",
      "issue name: None\n",
      "split bands: True\n",
      "exposure groups: {'group_size': 4}\n",
      "workflows:\n",
      " - test_campaign_step2_g_1 (issue None) with dataQuery ((instrument='LSSTCam-imSim' and skymap='DC2') and (band == 'g')) and (exposure >= 1280) and (exposure <= 5260)\n",
      " - test_campaign_step2_g_2 (issue None) with dataQuery ((instrument='LSSTCam-imSim' and skymap='DC2') and (band == 'g')) and (exposure >= 7606) and (exposure <= 8396)\n",
      " - test_campaign_step2_r (issue None) with dataQuery (instrument='LSSTCam-imSim' and skymap='DC2') and (band == 'r')\n",
      " - Carol (issue None) with dataQuery instrument='LSSTCam-imSim' and skymap='DC2'\n"
     ]
    }
   ],
   "source": [
    "print(campaign.steps[1])"
   ]
  },
  {
   "cell_type": "markdown",
   "id": "59b98580-b52b-4a37-9557-73ff6ba2d021",
   "metadata": {},
   "source": [
    "Similarly, we can build a whole new step and add it:"
   ]
  },
  {
   "cell_type": "code",
   "execution_count": 45,
   "id": "e4dd3e07-dfaa-4792-b3bb-e2ed10f9469c",
   "metadata": {},
   "outputs": [
    {
     "name": "stdout",
     "output_type": "stream",
     "text": [
      "Campaign\n",
      "name: test_campaign\n",
      "issue name: None\n",
      "steps:\n",
      " - step1 (issue None) with 2 workflows\n",
      " - step2 (issue None) with 4 workflows\n",
      " - extra_step (issue None) with 3 workflows\n"
     ]
    }
   ],
   "source": [
    "step = Step.generate_new('extra_step', base_bps_config=bps_config, split_bands=True, exposure_groups=exposure_groups, exposures=exposures, workflow_base_name='my_extra_wf')\n",
    "campaign.steps.append(step)\n",
    "print(campaign)"
   ]
  },
  {
   "cell_type": "markdown",
   "id": "ec410f9b-5cff-4c39-a265-f05ee0e3a35d",
   "metadata": {},
   "source": [
    "We can also get rid of steps and workflows using `remove`, `del`, and other python commands that remove elements from a list:"
   ]
  },
  {
   "cell_type": "code",
   "execution_count": 46,
   "id": "d314bf92-9574-42a4-8e3d-2911899d8d96",
   "metadata": {},
   "outputs": [
    {
     "name": "stdout",
     "output_type": "stream",
     "text": [
      "Campaign\n",
      "name: test_campaign\n",
      "issue name: None\n",
      "steps:\n",
      " - step1 (issue None) with 2 workflows\n",
      " - extra_step (issue None) with 3 workflows\n"
     ]
    }
   ],
   "source": [
    "del campaign.steps[1]\n",
    "print(campaign)"
   ]
  },
  {
   "cell_type": "code",
   "execution_count": null,
   "id": "77897c01-51ed-424d-b370-0f30322e3a69",
   "metadata": {},
   "outputs": [],
   "source": []
  }
 ],
 "metadata": {
  "kernelspec": {
   "display_name": "Python3 (LSST distrib)",
   "language": "python",
   "name": "lsst_distrib"
  },
  "language_info": {
   "codemirror_mode": {
    "name": "ipython",
    "version": 3
   },
   "file_extension": ".py",
   "mimetype": "text/x-python",
   "name": "python",
   "nbconvert_exporter": "python",
   "pygments_lexer": "ipython3",
   "version": "3.8.8"
  }
 },
 "nbformat": 4,
 "nbformat_minor": 5
}
