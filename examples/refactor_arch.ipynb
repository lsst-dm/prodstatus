{
 "cells": [
  {
   "cell_type": "markdown",
   "id": "b29edb52-0a11-4b2e-830c-cb2085fb633c",
   "metadata": {},
   "source": [
    "# Refactored `prodstatus` basics"
   ]
  },
  {
   "cell_type": "markdown",
   "id": "a66a8fbc-d96a-45b5-a792-08373fbe8a52",
   "metadata": {},
   "source": [
    "## Logger configuration, part 1"
   ]
  },
  {
   "cell_type": "markdown",
   "id": "9f859997-c939-407a-a888-05b50d7343f8",
   "metadata": {},
   "source": [
    "Jupyter does funky things with the logger configuration. To change logger formatting (to add the time, in this case), you need to reload the logger before fiddling with `basicConfig`.\n",
    "You only need to do this in jupyter notebooks, not python source files.\n",
    "\n",
    "This must be done *before* the import of `lsst.prodstatus` or any of its submodules."
   ]
  },
  {
   "cell_type": "code",
   "execution_count": 1,
   "id": "6871da41-1c8d-4525-acf8-6b73ec466723",
   "metadata": {},
   "outputs": [],
   "source": [
    "add_timestamp_to_logging = False\n",
    "if add_timestamp_to_logging:\n",
    "    from imp import reload\n",
    "    reload(logging)"
   ]
  },
  {
   "cell_type": "markdown",
   "id": "42a77a25-353b-45b7-89dc-b5855f1a1e47",
   "metadata": {},
   "source": [
    "## Import of python modules"
   ]
  },
  {
   "cell_type": "code",
   "execution_count": 2,
   "id": "95097506-7268-4fea-ba17-7d1a4fcb0332",
   "metadata": {},
   "outputs": [],
   "source": [
    "from tempfile import TemporaryDirectory\n",
    "from unittest import mock\n",
    "from os import environ\n",
    "from pathlib import Path\n",
    "import pprint\n",
    "import dataclasses\n",
    "import logging"
   ]
  },
  {
   "cell_type": "code",
   "execution_count": 3,
   "id": "acbc6df6-e124-40db-a352-38403de133fe",
   "metadata": {},
   "outputs": [],
   "source": [
    "import jira\n",
    "import netrc\n",
    "import pandas as pd\n",
    "import numpy as np\n",
    "import yaml"
   ]
  },
  {
   "cell_type": "code",
   "execution_count": 4,
   "id": "34ffce96-a32b-4850-ac8c-13a26bf3008f",
   "metadata": {},
   "outputs": [],
   "source": [
    "from lsst.ctrl.bps import BpsConfig\n",
    "from lsst.prodstatus.Workflow import Workflow\n",
    "from lsst.prodstatus.Step import Step\n",
    "from lsst.prodstatus.Campaign import Campaign\n",
    "from lsst.prodstatus import LOG"
   ]
  },
  {
   "cell_type": "markdown",
   "id": "ae962d37-52e1-46f9-b704-d4cf18c1316d",
   "metadata": {},
   "source": [
    "## Logger configuration, part 2"
   ]
  },
  {
   "cell_type": "markdown",
   "id": "4bb4043d-2f64-4dbc-8c47-7526e2c82c94",
   "metadata": {},
   "source": [
    "In a jupyter notebook, the code in \"Logger configuration, part 1\" needs to be run first for this to have any effect. In other python environments (e.g. running from a command line), \"part 1\" is not necessary."
   ]
  },
  {
   "cell_type": "code",
   "execution_count": 5,
   "id": "c392dd6f-0c3c-4fa5-89a9-67d12a6b62ac",
   "metadata": {},
   "outputs": [],
   "source": [
    "if add_timestamp_to_logging:\n",
    "    logging.basicConfig(format=\"%(asctime)s %(name)s %(levelname)s: %(message)s\")\n",
    "\n",
    "LOG.setLevel(logging.DEBUG)"
   ]
  },
  {
   "cell_type": "code",
   "execution_count": 6,
   "id": "73b8229f-66ef-4ece-b317-d9351a1999a3",
   "metadata": {},
   "outputs": [
    {
     "data": {
      "text/html": [
       "<pre style=\"margin: 0.1em;\n",
       "padding-left: 0.25em;\n",
       "border-left-style: solid;\n",
       "font-family: var(--jp-code-font-family);\n",
       "font-size: var(--jp-code-font-size);\n",
       "line-height: var(--jp-code-line-height);\n",
       "\"><span style=\"color: var(--jp-warn-color2)\">prodstatus</span> <span style=\"color: var(--jp-success-color0)\">DEBUG</span>: Foo</pre>"
      ],
      "text/plain": [
       "<IPython.core.display.HTML object>"
      ]
     },
     "metadata": {},
     "output_type": "display_data"
    }
   ],
   "source": [
    "LOG.debug('Foo')"
   ]
  },
  {
   "cell_type": "markdown",
   "id": "a49231a1-1267-4b2b-b870-3dbd0182b761",
   "metadata": {},
   "source": [
    "## Misc notes on tools, philosophy, etc.\n",
    "\n",
    "1. I implemented all of these classes using dataclasses. See [here](https://docs.python.org/3/library/dataclasses.html) for refenece documentation, and [here](https://realpython.com/python-data-classes/) for a tutorial.\n",
    "2. When a function or method requires a certain kind of data, make the arguments represent that kind of data. For example, rather than take a file name or yaml string when a method requires a BPS configuration, made the method require an actualy instance of `lsst.control.bps.BpsConfig`. This means that the code inside is less likely to need to be update if the implementation of `BpsConfig` in `lsst.control.bps` changes, because it will autamatically use the new implementations. Similarly, I used [`pathlib.Path`](https://docs.python.org/3/library/pathlib.html) instead of plain strings for directory and file names (but the benefits are less obvious here).\n",
    "3. I consistently tried to use [`tempfile.TemporaryDirectory`](https://docs.python.org/3/library/tempfile.html#tempfile.TemporaryDirectory) for making temporary directories, because it does a good job of automatically cleaning up after itself, so I never have to worry about where the temporary directory is, or explicitly delete it.\n",
    "4. Store all tables and table-like data in `pandas.DataFrames`. This makes it easy to read and write from just about any machine readabale format one might want, plus easy to export string representations in just about any markup you want. In particular, you can use [`tabulate`](https://pypi.org/project/tabulate/) to export it into `jira` markup (or html, latex, or many others).\n",
    "5. Never use accessors (\"getters\" and \"setters\"). In python, the problem solved by getters and setters in java is better solved using [\"property\" methods](https://docs.python.org/3/howto/descriptor.html#properties), and getters and setters just make the code more complicated. While in java it's often bad practice to use members directly, it's just fine in python. If you ever need to change the implementation of the class, just make the member a property method. [\"Python is not Java\"](https://dirtsimple.org/2004/12/python-is-not-java.html) has a good discussion of this and other things that are good practices in java (and C++) but bad practices in python.\n",
    "6. Separate (\"decouple\") IO from code that does anything other than IO, so you can replace the IO methods without touching other stuff, and vice versa. That is, except for logging, never put IO in a method that does anything other than IO. (See [this talk](https://www.youtube.com/watch?v=DJtef410XaM).) This both makes the code easier to test, and will simplify switching to using a different storage method (e.g. a database) if we want or need to.\n",
    "7. I take advantage of the [`__str__` \"magic\" python method](https://docs.python.org/3/reference/datamodel.html#object.__str__) to make sure all classes have a human readable output when printed. (Note that this is different from the [`__repr__` magic python method](https://docs.python.org/3/reference/datamodel.html#object.__repr__), which is expected to be a string representation that is valid python code to recreate the object in its current state.)"
   ]
  },
  {
   "cell_type": "markdown",
   "id": "79f57a82-8754-40e1-a1d3-446b084c7182",
   "metadata": {},
   "source": [
    "## Overview"
   ]
  },
  {
   "cell_type": "markdown",
   "id": "6b778b33-ffbc-4f76-9ca0-2196b724b123",
   "metadata": {},
   "source": [
    "The refactored architecture is build around three classes, `Campaign`, `Step`, and `Workflow`:\n",
    "\n",
    "![prodstatus_class_diagram](prodstatus_classes1.png)\n",
    "\n",
    "Instances of each of these classes can be saved to and loaded from either directories on local disk or jira issues."
   ]
  },
  {
   "cell_type": "markdown",
   "id": "741caea5-fc0f-4dab-bb93-7e66034b3fed",
   "metadata": {
    "tags": []
   },
   "source": [
    "## Workflows"
   ]
  },
  {
   "cell_type": "markdown",
   "id": "0d503666-50b9-4ef1-b42a-24210f4272dc",
   "metadata": {},
   "source": [
    "### A minimal workflow"
   ]
  },
  {
   "cell_type": "markdown",
   "id": "fc366d1a-0f79-419e-9eaa-9242c28c45a6",
   "metadata": {},
   "source": [
    "To create a workflow, I need to set a workflow name and get an instance of `BpsConfig`:"
   ]
  },
  {
   "cell_type": "code",
   "execution_count": 7,
   "id": "ed83e345-eab3-45a3-a71b-04d9644b2a74",
   "metadata": {},
   "outputs": [],
   "source": [
    "test_workflow_name = 'Alice'\n",
    "bps_config_path = Path(\n",
    "    environ[\"PRODSTATUS_DIR\"], \"tests\", \"data\", \"bps_config_base.yaml\"\n",
    ")\n",
    "bps_config = BpsConfig(bps_config_path)"
   ]
  },
  {
   "cell_type": "markdown",
   "id": "f8ea9779-4bf7-40ca-a319-c4d24b7cfbc4",
   "metadata": {},
   "source": [
    "These are enought to make the required elements of a `Workflow` instance:"
   ]
  },
  {
   "cell_type": "code",
   "execution_count": 8,
   "id": "3c05872b-a550-4287-ad39-fdfbaf7dbc3f",
   "metadata": {},
   "outputs": [
    {
     "name": "stdout",
     "output_type": "stream",
     "text": [
      "Workflow\n",
      "name: Alice\n",
      "issue name: None\n",
      "step: None\n",
      "band: all\n",
      "BPS config dataQuery: instrument='LSSTCam-imSim' and skymap='DC2'\n",
      "exposures: None\n",
      "\n"
     ]
    }
   ],
   "source": [
    "workflow = Workflow(bps_config, test_workflow_name)\n",
    "print(workflow)"
   ]
  },
  {
   "cell_type": "markdown",
   "id": "38ba77fd-7731-4d4c-a14c-a347e8a3ec54",
   "metadata": {},
   "source": [
    "You can save it as files in a directory. For this notebook, I'll make a temporary directory (which will automatically get cleaned up when the notebook kernel is ended or restarted), but it \"real life\" you'd set `test_dir` to wherever you want to save the data:"
   ]
  },
  {
   "cell_type": "code",
   "execution_count": 9,
   "id": "e75ba36d-52dc-4791-9f63-9f5864c371fa",
   "metadata": {},
   "outputs": [
    {
     "data": {
      "text/plain": [
       "'/tmp/tmpzicispad'"
      ]
     },
     "execution_count": 9,
     "metadata": {},
     "output_type": "execute_result"
    }
   ],
   "source": [
    "test_dir_itself = TemporaryDirectory()\n",
    "test_dir = test_dir_itself.name\n",
    "test_dir"
   ]
  },
  {
   "cell_type": "code",
   "execution_count": 10,
   "id": "98f52a99-a8ef-4f16-88a5-e9f06f2c35ea",
   "metadata": {},
   "outputs": [
    {
     "data": {
      "text/html": [
       "<pre style=\"margin: 0.1em;\n",
       "padding-left: 0.25em;\n",
       "border-left-style: solid;\n",
       "font-family: var(--jp-code-font-family);\n",
       "font-size: var(--jp-code-font-size);\n",
       "line-height: var(--jp-code-line-height);\n",
       "\"><span style=\"color: var(--jp-warn-color2)\">prodstatus</span> <span style=\"color: var(--jp-success-color0)\">DEBUG</span>: Wrote /tmp/tmpzicispad/Alice/bps_config.yaml</pre>"
      ],
      "text/plain": [
       "<IPython.core.display.HTML object>"
      ]
     },
     "metadata": {},
     "output_type": "display_data"
    },
    {
     "data": {
      "text/html": [
       "<pre style=\"margin: 0.1em;\n",
       "padding-left: 0.25em;\n",
       "border-left-style: solid;\n",
       "font-family: var(--jp-code-font-family);\n",
       "font-size: var(--jp-code-font-size);\n",
       "line-height: var(--jp-code-line-height);\n",
       "\"><span style=\"color: var(--jp-warn-color2)\">prodstatus</span> <span style=\"color: var(--jp-success-color0)\">DEBUG</span>: Wrote /tmp/tmpzicispad/Alice/workflow.yaml</pre>"
      ],
      "text/plain": [
       "<IPython.core.display.HTML object>"
      ]
     },
     "metadata": {},
     "output_type": "display_data"
    }
   ],
   "source": [
    "workflow.to_files(test_dir)"
   ]
  },
  {
   "cell_type": "markdown",
   "id": "53ac7655-3bef-49f2-a287-e207b4b93861",
   "metadata": {},
   "source": [
    "Look at what files were created, and what was in them:"
   ]
  },
  {
   "cell_type": "code",
   "execution_count": 11,
   "id": "6dd2f194-479b-45c6-acd4-59ff0ee33219",
   "metadata": {},
   "outputs": [
    {
     "name": "stdout",
     "output_type": "stream",
     "text": [
      "/tmp/tmpzicispad\n",
      "/tmp/tmpzicispad/Alice\n",
      "/tmp/tmpzicispad/Alice/workflow.yaml\n",
      "/tmp/tmpzicispad/Alice/bps_config.yaml\n"
     ]
    }
   ],
   "source": [
    "!find {test_dir}"
   ]
  },
  {
   "cell_type": "code",
   "execution_count": 12,
   "id": "c8ec9989-2205-43c2-9aef-708f93f0ddb0",
   "metadata": {},
   "outputs": [
    {
     "name": "stdout",
     "output_type": "stream",
     "text": [
      "band: all\n",
      "name: Alice\n"
     ]
    }
   ],
   "source": [
    "!cat {test_dir}/{test_workflow_name}/workflow.yaml"
   ]
  },
  {
   "cell_type": "markdown",
   "id": "c9b8a428-de61-41e9-aa1a-f989ccbcecfe",
   "metadata": {},
   "source": [
    "### Read it back again"
   ]
  },
  {
   "cell_type": "code",
   "execution_count": 13,
   "id": "938d6ec1-0465-4e22-9188-8e8fb96d4477",
   "metadata": {},
   "outputs": [
    {
     "data": {
      "text/html": [
       "<pre style=\"margin: 0.1em;\n",
       "padding-left: 0.25em;\n",
       "border-left-style: solid;\n",
       "font-family: var(--jp-code-font-family);\n",
       "font-size: var(--jp-code-font-size);\n",
       "line-height: var(--jp-code-line-height);\n",
       "\"><span style=\"color: var(--jp-warn-color2)\">prodstatus</span> <span style=\"color: var(--jp-success-color0)\">DEBUG</span>: Read /tmp/tmpzicispad/Alice/workflow.yaml</pre>"
      ],
      "text/plain": [
       "<IPython.core.display.HTML object>"
      ]
     },
     "metadata": {},
     "output_type": "display_data"
    },
    {
     "name": "stdout",
     "output_type": "stream",
     "text": [
      "Workflow\n",
      "name: Alice\n",
      "issue name: None\n",
      "step: None\n",
      "band: all\n",
      "BPS config dataQuery: instrument='LSSTCam-imSim' and skymap='DC2'\n",
      "exposures: None\n",
      "\n"
     ]
    }
   ],
   "source": [
    "reread_workflow = Workflow.from_files(test_dir, 'Alice')\n",
    "print(reread_workflow)"
   ]
  },
  {
   "cell_type": "markdown",
   "id": "6758ed0b-b181-40b8-9bd9-e6a518b077e2",
   "metadata": {},
   "source": [
    "### Split by band"
   ]
  },
  {
   "cell_type": "markdown",
   "id": "4907c825-dff6-44ce-b3b8-c86f4d1839c8",
   "metadata": {},
   "source": [
    "I put the code to divide a workflow up into groups with in the `Workflow` class: starting with an instance of `Workflow` that does everything, a `split` method returns a list of instances of `Workflow` that do different subsets.\n",
    "\n",
    "For example, to get a lists of `Workflow`s that together do everything that `workflow` does, but one band at a time:"
   ]
  },
  {
   "cell_type": "code",
   "execution_count": 14,
   "id": "54f0e227-bb7d-4adc-93bc-752d1f15afcb",
   "metadata": {},
   "outputs": [],
   "source": [
    "band_workflows = workflow.split_by_band()"
   ]
  },
  {
   "cell_type": "code",
   "execution_count": 15,
   "id": "85439001-9353-4b4a-8091-163f99b92e3d",
   "metadata": {},
   "outputs": [
    {
     "name": "stdout",
     "output_type": "stream",
     "text": [
      "Workflow\n",
      "name: Alice_u\n",
      "issue name: None\n",
      "step: None\n",
      "band: u\n",
      "BPS config dataQuery: (instrument='LSSTCam-imSim' and skymap='DC2') and (band == 'u')\n",
      "exposures: None\n",
      "\n",
      "Workflow\n",
      "name: Alice_g\n",
      "issue name: None\n",
      "step: None\n",
      "band: g\n",
      "BPS config dataQuery: (instrument='LSSTCam-imSim' and skymap='DC2') and (band == 'g')\n",
      "exposures: None\n",
      "\n",
      "Workflow\n",
      "name: Alice_r\n",
      "issue name: None\n",
      "step: None\n",
      "band: r\n",
      "BPS config dataQuery: (instrument='LSSTCam-imSim' and skymap='DC2') and (band == 'r')\n",
      "exposures: None\n",
      "\n",
      "Workflow\n",
      "name: Alice_i\n",
      "issue name: None\n",
      "step: None\n",
      "band: i\n",
      "BPS config dataQuery: (instrument='LSSTCam-imSim' and skymap='DC2') and (band == 'i')\n",
      "exposures: None\n",
      "\n",
      "Workflow\n",
      "name: Alice_z\n",
      "issue name: None\n",
      "step: None\n",
      "band: z\n",
      "BPS config dataQuery: (instrument='LSSTCam-imSim' and skymap='DC2') and (band == 'z')\n",
      "exposures: None\n",
      "\n",
      "Workflow\n",
      "name: Alice_y\n",
      "issue name: None\n",
      "step: None\n",
      "band: y\n",
      "BPS config dataQuery: (instrument='LSSTCam-imSim' and skymap='DC2') and (band == 'y')\n",
      "exposures: None\n",
      "\n"
     ]
    }
   ],
   "source": [
    "for workflow in band_workflows:\n",
    "    print(workflow)"
   ]
  },
  {
   "cell_type": "markdown",
   "id": "cdc9fb5a-fabb-4bed-a354-a2bcba8d72ad",
   "metadata": {
    "tags": []
   },
   "source": [
    "### Splitting into groups of exposures"
   ]
  },
  {
   "cell_type": "markdown",
   "id": "d4f97fd9-7e57-46a7-ad07-d4712122abf2",
   "metadata": {},
   "source": [
    "To split an instance of `Workflow` by exposure id, the instance needs a table of exposures. So, set's make a table of exposures, and then create a new `Workflow` with this list:"
   ]
  },
  {
   "cell_type": "code",
   "execution_count": 16,
   "id": "f4625e2d-da27-4995-8ee0-3f90eea5c2f4",
   "metadata": {},
   "outputs": [],
   "source": [
    "def make_random_exposure_table(num_exposures, bands=tuple('ugrizy'), random_number_seed=42):\n",
    "    random_number_generator = np.random.default_rng(random_number_seed)\n",
    "    bands = random_number_generator.choice(np.array(bands), num_exposures)\n",
    "    exp_ids = random_number_generator.choice(10000, num_exposures, replace=False)\n",
    "    exposures = pd.DataFrame({'band': bands, 'exp_id': exp_ids}).sort_values('exp_id').set_index('exp_id', drop=False)\n",
    "    return exposures"
   ]
  },
  {
   "cell_type": "code",
   "execution_count": 17,
   "id": "95af3505-1d8c-4a53-8549-ecd12b7d720a",
   "metadata": {},
   "outputs": [
    {
     "data": {
      "text/html": [
       "<div>\n",
       "<style scoped>\n",
       "    .dataframe tbody tr th:only-of-type {\n",
       "        vertical-align: middle;\n",
       "    }\n",
       "\n",
       "    .dataframe tbody tr th {\n",
       "        vertical-align: top;\n",
       "    }\n",
       "\n",
       "    .dataframe thead th {\n",
       "        text-align: right;\n",
       "    }\n",
       "</style>\n",
       "<table border=\"1\" class=\"dataframe\">\n",
       "  <thead>\n",
       "    <tr style=\"text-align: right;\">\n",
       "      <th></th>\n",
       "      <th>band</th>\n",
       "      <th>exp_id</th>\n",
       "    </tr>\n",
       "    <tr>\n",
       "      <th>exp_id</th>\n",
       "      <th></th>\n",
       "      <th></th>\n",
       "    </tr>\n",
       "  </thead>\n",
       "  <tbody>\n",
       "    <tr>\n",
       "      <th>1280</th>\n",
       "      <td>g</td>\n",
       "      <td>1280</td>\n",
       "    </tr>\n",
       "    <tr>\n",
       "      <th>4503</th>\n",
       "      <td>r</td>\n",
       "      <td>4503</td>\n",
       "    </tr>\n",
       "    <tr>\n",
       "      <th>5130</th>\n",
       "      <td>g</td>\n",
       "      <td>5130</td>\n",
       "    </tr>\n",
       "    <tr>\n",
       "      <th>5260</th>\n",
       "      <td>g</td>\n",
       "      <td>5260</td>\n",
       "    </tr>\n",
       "    <tr>\n",
       "      <th>7171</th>\n",
       "      <td>r</td>\n",
       "      <td>7171</td>\n",
       "    </tr>\n",
       "    <tr>\n",
       "      <th>7352</th>\n",
       "      <td>r</td>\n",
       "      <td>7352</td>\n",
       "    </tr>\n",
       "    <tr>\n",
       "      <th>7606</th>\n",
       "      <td>g</td>\n",
       "      <td>7606</td>\n",
       "    </tr>\n",
       "    <tr>\n",
       "      <th>7857</th>\n",
       "      <td>g</td>\n",
       "      <td>7857</td>\n",
       "    </tr>\n",
       "    <tr>\n",
       "      <th>8396</th>\n",
       "      <td>g</td>\n",
       "      <td>8396</td>\n",
       "    </tr>\n",
       "    <tr>\n",
       "      <th>9748</th>\n",
       "      <td>r</td>\n",
       "      <td>9748</td>\n",
       "    </tr>\n",
       "  </tbody>\n",
       "</table>\n",
       "</div>"
      ],
      "text/plain": [
       "       band  exp_id\n",
       "exp_id             \n",
       "1280      g    1280\n",
       "4503      r    4503\n",
       "5130      g    5130\n",
       "5260      g    5260\n",
       "7171      r    7171\n",
       "7352      r    7352\n",
       "7606      g    7606\n",
       "7857      g    7857\n",
       "8396      g    8396\n",
       "9748      r    9748"
      ]
     },
     "execution_count": 17,
     "metadata": {},
     "output_type": "execute_result"
    }
   ],
   "source": [
    "exposures = make_random_exposure_table(10, bands=('g', 'r'))\n",
    "exposures"
   ]
  },
  {
   "cell_type": "markdown",
   "id": "6ad52f16-1244-460c-938c-fe8118d72a86",
   "metadata": {},
   "source": [
    "Now, create a \"big\" instance of `Workflow` that does all the exposures:"
   ]
  },
  {
   "cell_type": "code",
   "execution_count": 18,
   "id": "e08fb00e-fd20-466e-a9cb-efa47bb93ba7",
   "metadata": {},
   "outputs": [],
   "source": [
    "big_workflow = Workflow(bps_config, 'Bob', exposures=exposures)"
   ]
  },
  {
   "cell_type": "markdown",
   "id": "914d6058-2029-45da-b89b-fcb7e2a6a34e",
   "metadata": {},
   "source": [
    "Now lets split this workflow up into several workflows, one for each band:"
   ]
  },
  {
   "cell_type": "code",
   "execution_count": 19,
   "id": "82599b03-ecc7-4d21-9fee-89f448ed7f33",
   "metadata": {},
   "outputs": [
    {
     "data": {
      "text/html": [
       "<pre style=\"margin: 0.1em;\n",
       "padding-left: 0.25em;\n",
       "border-left-style: solid;\n",
       "font-family: var(--jp-code-font-family);\n",
       "font-size: var(--jp-code-font-size);\n",
       "line-height: var(--jp-code-line-height);\n",
       "\"><span style=\"color: var(--jp-warn-color2)\">numexpr.utils</span> <span style=\"color: var(--jp-info-color0)\">INFO</span>: Note: NumExpr detected 32 cores but &quot;NUMEXPR_MAX_THREADS&quot; not set, so enforcing safe limit of 8.</pre>"
      ],
      "text/plain": [
       "<IPython.core.display.HTML object>"
      ]
     },
     "metadata": {},
     "output_type": "display_data"
    },
    {
     "data": {
      "text/html": [
       "<pre style=\"margin: 0.1em;\n",
       "padding-left: 0.25em;\n",
       "border-left-style: solid;\n",
       "font-family: var(--jp-code-font-family);\n",
       "font-size: var(--jp-code-font-size);\n",
       "line-height: var(--jp-code-line-height);\n",
       "\"><span style=\"color: var(--jp-warn-color2)\">numexpr.utils</span> <span style=\"color: var(--jp-info-color0)\">INFO</span>: NumExpr defaulting to 8 threads.</pre>"
      ],
      "text/plain": [
       "<IPython.core.display.HTML object>"
      ]
     },
     "metadata": {},
     "output_type": "display_data"
    },
    {
     "name": "stdout",
     "output_type": "stream",
     "text": [
      "Workflow\n",
      "name: Bob_1\n",
      "issue name: None\n",
      "step: None\n",
      "band: all\n",
      "BPS config dataQuery: (instrument='LSSTCam-imSim' and skymap='DC2') and (exposure >= 1280) and (exposure <= 5260)\n",
      "number of exposures: 4\n",
      "min exposure id: 1280\n",
      "max exposure id: 5260\n",
      "exposure counts by band: {'g': 3, 'r': 1}\n",
      "\n",
      "Workflow\n",
      "name: Bob_2\n",
      "issue name: None\n",
      "step: None\n",
      "band: all\n",
      "BPS config dataQuery: (instrument='LSSTCam-imSim' and skymap='DC2') and (exposure >= 7171) and (exposure <= 7606)\n",
      "number of exposures: 3\n",
      "min exposure id: 7171\n",
      "max exposure id: 7606\n",
      "exposure counts by band: {'r': 2, 'g': 1}\n",
      "\n",
      "Workflow\n",
      "name: Bob_3\n",
      "issue name: None\n",
      "step: None\n",
      "band: all\n",
      "BPS config dataQuery: (instrument='LSSTCam-imSim' and skymap='DC2') and (exposure >= 7857) and (exposure <= 9748)\n",
      "number of exposures: 3\n",
      "min exposure id: 7857\n",
      "max exposure id: 9748\n",
      "exposure counts by band: {'g': 2, 'r': 1}\n",
      "\n"
     ]
    }
   ],
   "source": [
    "exp_workflows = big_workflow.split_by_exposure(4)\n",
    "for workflow in exp_workflows:\n",
    "    print(workflow)"
   ]
  },
  {
   "cell_type": "markdown",
   "id": "b9c9b50b-c54e-4603-9900-70f4464daeff",
   "metadata": {},
   "source": [
    "## Step"
   ]
  },
  {
   "cell_type": "markdown",
   "id": "15245d89-3156-4e1b-b156-aea9e5872d6a",
   "metadata": {},
   "source": [
    "It is possible to create an instance of `Step` by making a list of instances of `Workflow` yourself, and using the default constructor:"
   ]
  },
  {
   "cell_type": "code",
   "execution_count": 20,
   "id": "c593e57f-4a4f-4af9-aa66-631906825fd3",
   "metadata": {},
   "outputs": [
    {
     "name": "stdout",
     "output_type": "stream",
     "text": [
      "Step\n",
      "name: Carol\n",
      "issue name: None\n",
      "split bands: False\n",
      "exposure groups: None\n",
      "workflows:\n",
      " - Alice (issue None) with dataQuery instrument='LSSTCam-imSim' and skymap='DC2'\n",
      " - Bob (issue None) with dataQuery instrument='LSSTCam-imSim' and skymap='DC2'\n"
     ]
    }
   ],
   "source": [
    "workflows = [\n",
    "    Workflow(bps_config, 'Alice'),\n",
    "    Workflow(bps_config, 'Bob')]\n",
    "step = Step('Carol', workflows=workflows)\n",
    "print(step)"
   ]
  },
  {
   "cell_type": "markdown",
   "id": "6815bba7-4b65-4894-a0d1-75f2f0ee0520",
   "metadata": {},
   "source": [
    "Normally, though, one would use `Step.generate_new` to take parameters for building a set of workflows, and create an instance of `Step` with the correct workflows (and also saving the parameters used to make the them)."
   ]
  },
  {
   "cell_type": "markdown",
   "id": "91e068fe-28f4-4e10-867d-baeda000018b",
   "metadata": {},
   "source": [
    "First, set parameters to be used for dividing the workflow into subsets by exposure (parameters passed to `Workflow.split_by_exposure`):"
   ]
  },
  {
   "cell_type": "code",
   "execution_count": 21,
   "id": "d9aa6f9c-ecfe-48db-b2c5-bbbdb9b7b7c0",
   "metadata": {},
   "outputs": [],
   "source": [
    "exposure_groups = {\n",
    "    'group_size': 4,\n",
    "    'skip_groups': 0,\n",
    "    'num_groups': None\n",
    "}"
   ]
  },
  {
   "cell_type": "markdown",
   "id": "657ff220-f7d9-4c84-9be1-48a9bcdd460a",
   "metadata": {},
   "source": [
    "Note that `skip_groups` defaults to 0, so it could be left off. A `num_groups` of `None` indicates \"as many as it takes\", and the default is `None`, so this could be left off as well:"
   ]
  },
  {
   "cell_type": "code",
   "execution_count": 22,
   "id": "41577674-598e-4829-b93e-2518750ad9f1",
   "metadata": {},
   "outputs": [
    {
     "name": "stdout",
     "output_type": "stream",
     "text": [
      "Help on function split_by_exposure in module lsst.prodstatus.Workflow:\n",
      "\n",
      "split_by_exposure(self, group_size=None, skip_groups=0, num_groups=None)\n",
      "    Split the workflow by exposure number.\n",
      "    \n",
      "    Parameters\n",
      "    ----------\n",
      "    group_size : `int` optional\n",
      "        The approximate size of the group. The default is None, which\n",
      "        causes the method to return a single workflow with all\n",
      "        exposures.\n",
      "    skip_groups : `int` optional\n",
      "        The number of groups to skip. The default is 0 (no skipped groups).\n",
      "    num_groups : `int` optional\n",
      "        The maximum number for groups. The default is None,\n",
      "        for all groups\n",
      "    \n",
      "    Returns\n",
      "    -------\n",
      "    workflows : `List[Workflow]`\n",
      "        A list of workflows.\n",
      "\n"
     ]
    }
   ],
   "source": [
    "help(Workflow.split_by_exposure)"
   ]
  },
  {
   "cell_type": "markdown",
   "id": "e1b96e9b-a281-48f2-b4c9-0461654b1853",
   "metadata": {},
   "source": [
    "Now, let's make a `Step`:"
   ]
  },
  {
   "cell_type": "code",
   "execution_count": 23,
   "id": "6446cc99-09e6-415b-951c-96b87a49b0e7",
   "metadata": {},
   "outputs": [],
   "source": [
    "step = Step.generate_new('Dave', base_bps_config=bps_config, split_bands=True, exposure_groups=exposure_groups, exposures=exposures, workflow_base_name='wf')"
   ]
  },
  {
   "cell_type": "code",
   "execution_count": 24,
   "id": "5d491232-fbb5-44a6-b55e-0364de6b32a2",
   "metadata": {},
   "outputs": [
    {
     "name": "stdout",
     "output_type": "stream",
     "text": [
      "Step\n",
      "name: Dave\n",
      "issue name: None\n",
      "split bands: True\n",
      "exposure groups: {'group_size': 4, 'skip_groups': 0, 'num_groups': None}\n",
      "workflows:\n",
      " - wf_Dave_g_1 (issue None) with dataQuery ((instrument='LSSTCam-imSim' and skymap='DC2') and (band == 'g')) and (exposure >= 1280) and (exposure <= 5260)\n",
      " - wf_Dave_g_2 (issue None) with dataQuery ((instrument='LSSTCam-imSim' and skymap='DC2') and (band == 'g')) and (exposure >= 7606) and (exposure <= 8396)\n",
      " - wf_Dave_r (issue None) with dataQuery (instrument='LSSTCam-imSim' and skymap='DC2') and (band == 'r')\n"
     ]
    }
   ],
   "source": [
    "print(step)"
   ]
  },
  {
   "cell_type": "markdown",
   "id": "478a9fe9-e5f1-41f4-b3b1-5eeeddb870b4",
   "metadata": {},
   "source": [
    "We can save and reload the step much like we did with the `Workflow` example above. Note that saving an instance of `Step` saves all its workflows as well.\n",
    "\n",
    "Again, use a temporary directory:"
   ]
  },
  {
   "cell_type": "code",
   "execution_count": 25,
   "id": "7acbbd1e-55c9-47c3-810d-9c56b4dfcf09",
   "metadata": {},
   "outputs": [
    {
     "data": {
      "text/plain": [
       "'/tmp/tmpw7ixelzj'"
      ]
     },
     "execution_count": 25,
     "metadata": {},
     "output_type": "execute_result"
    }
   ],
   "source": [
    "test_dir_itself = TemporaryDirectory()\n",
    "test_dir = test_dir_itself.name\n",
    "test_dir"
   ]
  },
  {
   "cell_type": "code",
   "execution_count": 26,
   "id": "d6ba9a4c-30e2-4d17-87e5-5f4d42c87754",
   "metadata": {},
   "outputs": [
    {
     "data": {
      "text/html": [
       "<pre style=\"margin: 0.1em;\n",
       "padding-left: 0.25em;\n",
       "border-left-style: solid;\n",
       "font-family: var(--jp-code-font-family);\n",
       "font-size: var(--jp-code-font-size);\n",
       "line-height: var(--jp-code-line-height);\n",
       "\"><span style=\"color: var(--jp-warn-color2)\">prodstatus</span> <span style=\"color: var(--jp-success-color0)\">DEBUG</span>: Wrote /tmp/tmpw7ixelzj/Dave/step.yaml</pre>"
      ],
      "text/plain": [
       "<IPython.core.display.HTML object>"
      ]
     },
     "metadata": {},
     "output_type": "display_data"
    },
    {
     "data": {
      "text/html": [
       "<pre style=\"margin: 0.1em;\n",
       "padding-left: 0.25em;\n",
       "border-left-style: solid;\n",
       "font-family: var(--jp-code-font-family);\n",
       "font-size: var(--jp-code-font-size);\n",
       "line-height: var(--jp-code-line-height);\n",
       "\"><span style=\"color: var(--jp-warn-color2)\">prodstatus</span> <span style=\"color: var(--jp-success-color0)\">DEBUG</span>: Wrote /tmp/tmpw7ixelzj/Dave/workflows/wf_Dave_g_1/bps_config.yaml</pre>"
      ],
      "text/plain": [
       "<IPython.core.display.HTML object>"
      ]
     },
     "metadata": {},
     "output_type": "display_data"
    },
    {
     "data": {
      "text/html": [
       "<pre style=\"margin: 0.1em;\n",
       "padding-left: 0.25em;\n",
       "border-left-style: solid;\n",
       "font-family: var(--jp-code-font-family);\n",
       "font-size: var(--jp-code-font-size);\n",
       "line-height: var(--jp-code-line-height);\n",
       "\"><span style=\"color: var(--jp-warn-color2)\">prodstatus</span> <span style=\"color: var(--jp-success-color0)\">DEBUG</span>: Wrote /tmp/tmpw7ixelzj/Dave/workflows/wf_Dave_g_1/workflow.yaml</pre>"
      ],
      "text/plain": [
       "<IPython.core.display.HTML object>"
      ]
     },
     "metadata": {},
     "output_type": "display_data"
    },
    {
     "data": {
      "text/html": [
       "<pre style=\"margin: 0.1em;\n",
       "padding-left: 0.25em;\n",
       "border-left-style: solid;\n",
       "font-family: var(--jp-code-font-family);\n",
       "font-size: var(--jp-code-font-size);\n",
       "line-height: var(--jp-code-line-height);\n",
       "\"><span style=\"color: var(--jp-warn-color2)\">prodstatus</span> <span style=\"color: var(--jp-success-color0)\">DEBUG</span>: Wrote /tmp/tmpw7ixelzj/Dave/workflows/wf_Dave_g_1/explist.txt</pre>"
      ],
      "text/plain": [
       "<IPython.core.display.HTML object>"
      ]
     },
     "metadata": {},
     "output_type": "display_data"
    },
    {
     "data": {
      "text/html": [
       "<pre style=\"margin: 0.1em;\n",
       "padding-left: 0.25em;\n",
       "border-left-style: solid;\n",
       "font-family: var(--jp-code-font-family);\n",
       "font-size: var(--jp-code-font-size);\n",
       "line-height: var(--jp-code-line-height);\n",
       "\"><span style=\"color: var(--jp-warn-color2)\">prodstatus</span> <span style=\"color: var(--jp-success-color0)\">DEBUG</span>: Wrote /tmp/tmpw7ixelzj/Dave/workflows/wf_Dave_g_2/bps_config.yaml</pre>"
      ],
      "text/plain": [
       "<IPython.core.display.HTML object>"
      ]
     },
     "metadata": {},
     "output_type": "display_data"
    },
    {
     "data": {
      "text/html": [
       "<pre style=\"margin: 0.1em;\n",
       "padding-left: 0.25em;\n",
       "border-left-style: solid;\n",
       "font-family: var(--jp-code-font-family);\n",
       "font-size: var(--jp-code-font-size);\n",
       "line-height: var(--jp-code-line-height);\n",
       "\"><span style=\"color: var(--jp-warn-color2)\">prodstatus</span> <span style=\"color: var(--jp-success-color0)\">DEBUG</span>: Wrote /tmp/tmpw7ixelzj/Dave/workflows/wf_Dave_g_2/workflow.yaml</pre>"
      ],
      "text/plain": [
       "<IPython.core.display.HTML object>"
      ]
     },
     "metadata": {},
     "output_type": "display_data"
    },
    {
     "data": {
      "text/html": [
       "<pre style=\"margin: 0.1em;\n",
       "padding-left: 0.25em;\n",
       "border-left-style: solid;\n",
       "font-family: var(--jp-code-font-family);\n",
       "font-size: var(--jp-code-font-size);\n",
       "line-height: var(--jp-code-line-height);\n",
       "\"><span style=\"color: var(--jp-warn-color2)\">prodstatus</span> <span style=\"color: var(--jp-success-color0)\">DEBUG</span>: Wrote /tmp/tmpw7ixelzj/Dave/workflows/wf_Dave_g_2/explist.txt</pre>"
      ],
      "text/plain": [
       "<IPython.core.display.HTML object>"
      ]
     },
     "metadata": {},
     "output_type": "display_data"
    },
    {
     "data": {
      "text/html": [
       "<pre style=\"margin: 0.1em;\n",
       "padding-left: 0.25em;\n",
       "border-left-style: solid;\n",
       "font-family: var(--jp-code-font-family);\n",
       "font-size: var(--jp-code-font-size);\n",
       "line-height: var(--jp-code-line-height);\n",
       "\"><span style=\"color: var(--jp-warn-color2)\">prodstatus</span> <span style=\"color: var(--jp-success-color0)\">DEBUG</span>: Wrote /tmp/tmpw7ixelzj/Dave/workflows/wf_Dave_r/bps_config.yaml</pre>"
      ],
      "text/plain": [
       "<IPython.core.display.HTML object>"
      ]
     },
     "metadata": {},
     "output_type": "display_data"
    },
    {
     "data": {
      "text/html": [
       "<pre style=\"margin: 0.1em;\n",
       "padding-left: 0.25em;\n",
       "border-left-style: solid;\n",
       "font-family: var(--jp-code-font-family);\n",
       "font-size: var(--jp-code-font-size);\n",
       "line-height: var(--jp-code-line-height);\n",
       "\"><span style=\"color: var(--jp-warn-color2)\">prodstatus</span> <span style=\"color: var(--jp-success-color0)\">DEBUG</span>: Wrote /tmp/tmpw7ixelzj/Dave/workflows/wf_Dave_r/workflow.yaml</pre>"
      ],
      "text/plain": [
       "<IPython.core.display.HTML object>"
      ]
     },
     "metadata": {},
     "output_type": "display_data"
    },
    {
     "data": {
      "text/html": [
       "<pre style=\"margin: 0.1em;\n",
       "padding-left: 0.25em;\n",
       "border-left-style: solid;\n",
       "font-family: var(--jp-code-font-family);\n",
       "font-size: var(--jp-code-font-size);\n",
       "line-height: var(--jp-code-line-height);\n",
       "\"><span style=\"color: var(--jp-warn-color2)\">prodstatus</span> <span style=\"color: var(--jp-success-color0)\">DEBUG</span>: Wrote /tmp/tmpw7ixelzj/Dave/workflows/wf_Dave_r/explist.txt</pre>"
      ],
      "text/plain": [
       "<IPython.core.display.HTML object>"
      ]
     },
     "metadata": {},
     "output_type": "display_data"
    }
   ],
   "source": [
    "step.to_files(test_dir)"
   ]
  },
  {
   "cell_type": "code",
   "execution_count": 27,
   "id": "4a8bbcff-5933-48c8-9a9f-a36860ca6f0d",
   "metadata": {},
   "outputs": [
    {
     "name": "stdout",
     "output_type": "stream",
     "text": [
      "/tmp/tmpw7ixelzj\n",
      "/tmp/tmpw7ixelzj/Dave\n",
      "/tmp/tmpw7ixelzj/Dave/step.yaml\n",
      "/tmp/tmpw7ixelzj/Dave/workflows\n",
      "/tmp/tmpw7ixelzj/Dave/workflows/wf_Dave_r\n",
      "/tmp/tmpw7ixelzj/Dave/workflows/wf_Dave_r/workflow.yaml\n",
      "/tmp/tmpw7ixelzj/Dave/workflows/wf_Dave_r/bps_config.yaml\n",
      "/tmp/tmpw7ixelzj/Dave/workflows/wf_Dave_r/explist.txt\n",
      "/tmp/tmpw7ixelzj/Dave/workflows/wf_Dave_g_1\n",
      "/tmp/tmpw7ixelzj/Dave/workflows/wf_Dave_g_1/workflow.yaml\n",
      "/tmp/tmpw7ixelzj/Dave/workflows/wf_Dave_g_1/bps_config.yaml\n",
      "/tmp/tmpw7ixelzj/Dave/workflows/wf_Dave_g_1/explist.txt\n",
      "/tmp/tmpw7ixelzj/Dave/workflows/wf_Dave_g_2\n",
      "/tmp/tmpw7ixelzj/Dave/workflows/wf_Dave_g_2/workflow.yaml\n",
      "/tmp/tmpw7ixelzj/Dave/workflows/wf_Dave_g_2/bps_config.yaml\n",
      "/tmp/tmpw7ixelzj/Dave/workflows/wf_Dave_g_2/explist.txt\n"
     ]
    }
   ],
   "source": [
    "!find {test_dir}"
   ]
  },
  {
   "cell_type": "code",
   "execution_count": 28,
   "id": "2260513f-bdb4-4bc5-b2e2-e9b008a749ae",
   "metadata": {},
   "outputs": [
    {
     "name": "stdout",
     "output_type": "stream",
     "text": [
      "exposure_groups:\n",
      "    group_size: 4\n",
      "    num_groups: null\n",
      "    skip_groups: 0\n",
      "name: Dave\n",
      "split_bands: true\n",
      "workflows:\n",
      "-   issue: null\n",
      "    name: wf_Dave_g_1\n",
      "-   issue: null\n",
      "    name: wf_Dave_g_2\n",
      "-   issue: null\n",
      "    name: wf_Dave_r\n"
     ]
    }
   ],
   "source": [
    "!cat {test_dir}/{step.name}/step.yaml"
   ]
  },
  {
   "cell_type": "markdown",
   "id": "ca1dbb2b-b543-4ba5-a20a-4f8ab2842a24",
   "metadata": {},
   "source": [
    "## Creating a campaign"
   ]
  },
  {
   "cell_type": "markdown",
   "id": "1c90408b-10ed-497f-a100-b121f77ab5f6",
   "metadata": {},
   "source": [
    "Instances of `Campaign` can be created in a way analogous to `Workflow` and `Step`, by creating a list of instances of `Step` and calling the `Campaign` constructor:"
   ]
  },
  {
   "cell_type": "code",
   "execution_count": 29,
   "id": "c81e4e3a-1cb4-443e-a6ab-913b2ca584e6",
   "metadata": {},
   "outputs": [
    {
     "name": "stdout",
     "output_type": "stream",
     "text": [
      "Campaign\n",
      "name: Grace\n",
      "issue name: None\n",
      "steps:\n",
      " - Eve (issue None) with 2 workflows\n",
      " - Frank (issue None) with 2 workflows\n"
     ]
    }
   ],
   "source": [
    "eve_workflows = [\n",
    "    Workflow(bps_config, 'Graham'),\n",
    "    Workflow(bps_config, 'John')\n",
    "]\n",
    "frank_workflows = [\n",
    "    Workflow(bps_config, 'Terry'),\n",
    "    Workflow(bps_config, 'Michael')\n",
    "]\n",
    "grace_steps = [\n",
    "    Step('Eve', workflows=eve_workflows),\n",
    "    Step('Frank', workflows=frank_workflows)\n",
    "]\n",
    "campaign = Campaign('Grace', steps=grace_steps)\n",
    "print(campaign)"
   ]
  },
  {
   "cell_type": "markdown",
   "id": "f70c7de3-2c89-4664-b1ed-c34f458f7997",
   "metadata": {},
   "source": [
    "The `Campaign.create_from_yaml` method creates a new instance of `Campaign` by reading everything from files."
   ]
  },
  {
   "cell_type": "markdown",
   "id": "4a39eb8f-6460-4470-8b57-006514e5be07",
   "metadata": {},
   "source": [
    "To show how this works, start by creating a set of files that can be loaded, beginning by creating a temprorary directory in which to keep them:"
   ]
  },
  {
   "cell_type": "code",
   "execution_count": 30,
   "id": "5a9b7e2c-80d5-46c3-8fff-b2650a15cccb",
   "metadata": {
    "tags": []
   },
   "outputs": [
    {
     "data": {
      "text/plain": [
       "PosixPath('/tmp/tmpb70uk5pc')"
      ]
     },
     "execution_count": 30,
     "metadata": {},
     "output_type": "execute_result"
    }
   ],
   "source": [
    "campaign_def_dir = TemporaryDirectory()\n",
    "campaign_def_dir_path = Path(campaign_def_dir.name)\n",
    "campaign_def_dir_path"
   ]
  },
  {
   "cell_type": "markdown",
   "id": "203ea6cb-05eb-4799-ad1d-e705e04df53b",
   "metadata": {},
   "source": [
    "Now, create a PBS config file in this directory:"
   ]
  },
  {
   "cell_type": "code",
   "execution_count": 31,
   "id": "f0668bac-037f-459b-b4c0-b637a197a682",
   "metadata": {},
   "outputs": [
    {
     "data": {
      "text/plain": [
       "PosixPath('/tmp/tmpb70uk5pc/base_bps_config.yaml')"
      ]
     },
     "execution_count": 31,
     "metadata": {},
     "output_type": "execute_result"
    }
   ],
   "source": [
    "bps_config_path = campaign_def_dir_path.joinpath('base_bps_config.yaml')\n",
    "with bps_config_path.open('wt') as bps_config_io:\n",
    "    bps_config.dump(bps_config_io)\n",
    "bps_config_path"
   ]
  },
  {
   "cell_type": "code",
   "execution_count": 32,
   "id": "18d98e2c-77cd-4fc6-af57-ce564d253728",
   "metadata": {},
   "outputs": [
    {
     "name": "stdout",
     "output_type": "stream",
     "text": [
      "campaign: v23_0_0_rc5/PREOPS-938\n",
      "computeSite: LSST\n",
      "defaultPreCmdOpts: --long-log --log-level=VERBOSE --log-file payload-log.json\n",
      "executionButler:\n",
      "  queue: DOMA_LSST_GOOGLE_MERGE\n",
      "iddsServer: https://aipanda015.cern.ch:443/idds\n",
      "payload:\n",
      "  butlerConfig: s3://butler-us-central1-panda-dev/dc2/butler-external.yaml\n",
      "  dataQuery: instrument='LSSTCam-imSim' and skymap='DC2'\n",
      "  fileDistributionEndPoint: s3://butler-us-central1-panda-dev/dc2/{payloadFolder}/{uniqProcName}/\n"
     ]
    }
   ],
   "source": [
    "!head {bps_config_path}"
   ]
  },
  {
   "cell_type": "markdown",
   "id": "d5eb779d-7a70-4e44-b2cf-1ca077d9a939",
   "metadata": {},
   "source": [
    "We'll also need a file with a list of exposures there:"
   ]
  },
  {
   "cell_type": "code",
   "execution_count": 33,
   "id": "b79b7946-775c-4cfc-93e8-9277e927fb8c",
   "metadata": {},
   "outputs": [
    {
     "data": {
      "text/plain": [
       "PosixPath('/tmp/tmpb70uk5pc/explist.txt')"
      ]
     },
     "execution_count": 33,
     "metadata": {},
     "output_type": "execute_result"
    }
   ],
   "source": [
    "explist_path = campaign_def_dir_path.joinpath('explist.txt')\n",
    "exposures.to_csv(explist_path, header=False, index=False, sep=\" \")\n",
    "explist_path"
   ]
  },
  {
   "cell_type": "code",
   "execution_count": 34,
   "id": "605892bd-194b-4b52-8c6c-96a2f4982077",
   "metadata": {},
   "outputs": [
    {
     "name": "stdout",
     "output_type": "stream",
     "text": [
      "g 1280\n",
      "r 4503\n",
      "g 5130\n",
      "g 5260\n",
      "r 7171\n",
      "r 7352\n",
      "g 7606\n",
      "g 7857\n",
      "g 8396\n",
      "r 9748\n"
     ]
    }
   ],
   "source": [
    "!head {explist_path}"
   ]
  },
  {
   "cell_type": "markdown",
   "id": "e27be484-669b-41d1-b4d1-1ae79814e938",
   "metadata": {},
   "source": [
    "Finally, create the top level yaml file that describes the campaign:"
   ]
  },
  {
   "cell_type": "code",
   "execution_count": 35,
   "id": "7501edea-0e1a-467f-8910-e4f46770bc01",
   "metadata": {},
   "outputs": [],
   "source": [
    "campaign_config = {\n",
    "    'exposures': explist_path.as_posix(),\n",
    "    'name': 'test_ehn_2021-03-01',\n",
    "    'steps': {\n",
    "        'step1': {'base_bps_config': bps_config_path.as_posix(), 'exposure_groups': {}, 'split_bands': True},\n",
    "        'step2': {'base_bps_config': bps_config_path.as_posix(), 'exposure_groups': {'group_size': 4}, 'split_bands': True}\n",
    "    }\n",
    "}"
   ]
  },
  {
   "cell_type": "code",
   "execution_count": 36,
   "id": "9fa9268c-19fe-4418-8e59-db993a2e224b",
   "metadata": {},
   "outputs": [
    {
     "data": {
      "text/plain": [
       "PosixPath('/tmp/tmpb70uk5pc/campaign.yaml')"
      ]
     },
     "execution_count": 36,
     "metadata": {},
     "output_type": "execute_result"
    }
   ],
   "source": [
    "campaign_def_path = campaign_def_dir_path.joinpath('campaign.yaml')\n",
    "with campaign_def_path.open('wt') as campaign_def_io:\n",
    "    yaml.dump(campaign_config, campaign_def_io, indent=4)\n",
    "campaign_def_path"
   ]
  },
  {
   "cell_type": "code",
   "execution_count": 37,
   "id": "52d0cdf3-e8a2-43fb-81dd-29e41d2a2e1f",
   "metadata": {},
   "outputs": [
    {
     "name": "stdout",
     "output_type": "stream",
     "text": [
      "exposures: /tmp/tmpb70uk5pc/explist.txt\n",
      "name: test_ehn_2021-03-01\n",
      "steps:\n",
      "    step1:\n",
      "        base_bps_config: /tmp/tmpb70uk5pc/base_bps_config.yaml\n",
      "        exposure_groups: {}\n",
      "        split_bands: true\n",
      "    step2:\n",
      "        base_bps_config: /tmp/tmpb70uk5pc/base_bps_config.yaml\n",
      "        exposure_groups:\n",
      "            group_size: 4\n",
      "        split_bands: true\n"
     ]
    }
   ],
   "source": [
    "!cat {campaign_def_path}"
   ]
  },
  {
   "cell_type": "markdown",
   "id": "cce27038-a82c-4294-944c-699b987803a8",
   "metadata": {},
   "source": [
    "Look at all the file's we've made in preparation:"
   ]
  },
  {
   "cell_type": "code",
   "execution_count": 38,
   "id": "ba571b34-15eb-4599-9f73-54407305c824",
   "metadata": {},
   "outputs": [
    {
     "name": "stdout",
     "output_type": "stream",
     "text": [
      "/tmp/tmpb70uk5pc\n",
      "/tmp/tmpb70uk5pc/campaign.yaml\n",
      "/tmp/tmpb70uk5pc/base_bps_config.yaml\n",
      "/tmp/tmpb70uk5pc/explist.txt\n"
     ]
    }
   ],
   "source": [
    "!find {campaign_def_dir_path}"
   ]
  },
  {
   "cell_type": "markdown",
   "id": "790c8e46-27bb-4e94-bd31-a61a33dc8506",
   "metadata": {},
   "source": [
    "Now we can use these files to create the instance of `Campaign`, including all corresponding instances of `Step` and `Workflow`:"
   ]
  },
  {
   "cell_type": "code",
   "execution_count": 39,
   "id": "82759494-1474-40fd-901e-db5f0fc855a7",
   "metadata": {},
   "outputs": [],
   "source": [
    "campaign = Campaign.create_from_yaml(campaign_def_path)"
   ]
  },
  {
   "cell_type": "code",
   "execution_count": 40,
   "id": "a9d7c4cf-0a0d-445c-8f0c-9ebac706de56",
   "metadata": {},
   "outputs": [
    {
     "name": "stdout",
     "output_type": "stream",
     "text": [
      "Campaign\n",
      "name: test_ehn_2021-03-01\n",
      "issue name: None\n",
      "steps:\n",
      " - step1 (issue None) with 2 workflows\n",
      " - step2 (issue None) with 3 workflows\n"
     ]
    }
   ],
   "source": [
    "print(campaign)"
   ]
  },
  {
   "cell_type": "code",
   "execution_count": 41,
   "id": "2e022cb4-7b2f-427d-b33e-eb20b832aded",
   "metadata": {},
   "outputs": [
    {
     "name": "stdout",
     "output_type": "stream",
     "text": [
      "Step\n",
      "name: step1\n",
      "issue name: None\n",
      "split bands: True\n",
      "exposure groups: {}\n",
      "workflows:\n",
      " - test_ehn_2021-03-01_step1_g (issue None) with dataQuery (instrument='LSSTCam-imSim' and skymap='DC2') and (band == 'g')\n",
      " - test_ehn_2021-03-01_step1_r (issue None) with dataQuery (instrument='LSSTCam-imSim' and skymap='DC2') and (band == 'r')\n",
      "\n",
      "Workflow\n",
      "name: test_ehn_2021-03-01_step1_g\n",
      "issue name: None\n",
      "step: step1\n",
      "band: g\n",
      "BPS config dataQuery: (instrument='LSSTCam-imSim' and skymap='DC2') and (band == 'g')\n",
      "number of exposures: 6\n",
      "min exposure id: 1280\n",
      "max exposure id: 8396\n",
      "exposure counts by band: {'g': 6}\n",
      "\n",
      "Workflow\n",
      "name: test_ehn_2021-03-01_step1_r\n",
      "issue name: None\n",
      "step: step1\n",
      "band: r\n",
      "BPS config dataQuery: (instrument='LSSTCam-imSim' and skymap='DC2') and (band == 'r')\n",
      "number of exposures: 4\n",
      "min exposure id: 4503\n",
      "max exposure id: 9748\n",
      "exposure counts by band: {'r': 4}\n",
      "\n",
      "Step\n",
      "name: step2\n",
      "issue name: None\n",
      "split bands: True\n",
      "exposure groups: {'group_size': 4}\n",
      "workflows:\n",
      " - test_ehn_2021-03-01_step2_g_1 (issue None) with dataQuery ((instrument='LSSTCam-imSim' and skymap='DC2') and (band == 'g')) and (exposure >= 1280) and (exposure <= 5260)\n",
      " - test_ehn_2021-03-01_step2_g_2 (issue None) with dataQuery ((instrument='LSSTCam-imSim' and skymap='DC2') and (band == 'g')) and (exposure >= 7606) and (exposure <= 8396)\n",
      " - test_ehn_2021-03-01_step2_r (issue None) with dataQuery (instrument='LSSTCam-imSim' and skymap='DC2') and (band == 'r')\n",
      "\n",
      "Workflow\n",
      "name: test_ehn_2021-03-01_step2_g_1\n",
      "issue name: None\n",
      "step: step2\n",
      "band: g\n",
      "BPS config dataQuery: ((instrument='LSSTCam-imSim' and skymap='DC2') and (band == 'g')) and (exposure >= 1280) and (exposure <= 5260)\n",
      "number of exposures: 3\n",
      "min exposure id: 1280\n",
      "max exposure id: 5260\n",
      "exposure counts by band: {'g': 3}\n",
      "\n",
      "Workflow\n",
      "name: test_ehn_2021-03-01_step2_g_2\n",
      "issue name: None\n",
      "step: step2\n",
      "band: g\n",
      "BPS config dataQuery: ((instrument='LSSTCam-imSim' and skymap='DC2') and (band == 'g')) and (exposure >= 7606) and (exposure <= 8396)\n",
      "number of exposures: 3\n",
      "min exposure id: 7606\n",
      "max exposure id: 8396\n",
      "exposure counts by band: {'g': 3}\n",
      "\n",
      "Workflow\n",
      "name: test_ehn_2021-03-01_step2_r\n",
      "issue name: None\n",
      "step: step2\n",
      "band: r\n",
      "BPS config dataQuery: (instrument='LSSTCam-imSim' and skymap='DC2') and (band == 'r')\n",
      "number of exposures: 4\n",
      "min exposure id: 4503\n",
      "max exposure id: 9748\n",
      "exposure counts by band: {'r': 4}\n",
      "\n"
     ]
    }
   ],
   "source": [
    "for step in campaign.steps:\n",
    "    print(step)\n",
    "    print()\n",
    "    for workflow in step.workflows:\n",
    "        print(workflow)"
   ]
  },
  {
   "cell_type": "markdown",
   "id": "68ccc405-9098-4cde-bc18-148e5b348bac",
   "metadata": {},
   "source": [
    "As with instances of `Step` and `Workflow`, we can save the instance of `Campaign` (including all the instances of `Step` and `Workflow` it contains) to files in a directory.\n",
    "\n",
    "Here, I create a temporary directory to save them to (and it will be automatically cleaned up), but in \"real life\" you'd use the actual directory where you want it:"
   ]
  },
  {
   "cell_type": "code",
   "execution_count": 42,
   "id": "0ae42feb-7424-496f-b2c4-b4a300f01db5",
   "metadata": {},
   "outputs": [
    {
     "data": {
      "text/plain": [
       "PosixPath('/tmp/tmp4qzmhpu1')"
      ]
     },
     "execution_count": 42,
     "metadata": {},
     "output_type": "execute_result"
    }
   ],
   "source": [
    "campaign_dir = TemporaryDirectory()\n",
    "campaign_dir_path = Path(campaign_dir.name)\n",
    "campaign_dir_path"
   ]
  },
  {
   "cell_type": "code",
   "execution_count": 43,
   "id": "601b0ea1-f9ef-4bb2-b18a-62f362fef53a",
   "metadata": {},
   "outputs": [
    {
     "data": {
      "text/html": [
       "<pre style=\"margin: 0.1em;\n",
       "padding-left: 0.25em;\n",
       "border-left-style: solid;\n",
       "font-family: var(--jp-code-font-family);\n",
       "font-size: var(--jp-code-font-size);\n",
       "line-height: var(--jp-code-line-height);\n",
       "\"><span style=\"color: var(--jp-warn-color2)\">prodstatus</span> <span style=\"color: var(--jp-success-color0)\">DEBUG</span>: Wrote /tmp/tmp4qzmhpu1/test_ehn_2021-03-01/campaign.yaml</pre>"
      ],
      "text/plain": [
       "<IPython.core.display.HTML object>"
      ]
     },
     "metadata": {},
     "output_type": "display_data"
    },
    {
     "data": {
      "text/html": [
       "<pre style=\"margin: 0.1em;\n",
       "padding-left: 0.25em;\n",
       "border-left-style: solid;\n",
       "font-family: var(--jp-code-font-family);\n",
       "font-size: var(--jp-code-font-size);\n",
       "line-height: var(--jp-code-line-height);\n",
       "\"><span style=\"color: var(--jp-warn-color2)\">prodstatus</span> <span style=\"color: var(--jp-success-color0)\">DEBUG</span>: Wrote /tmp/tmp4qzmhpu1/test_ehn_2021-03-01/steps/step1/step.yaml</pre>"
      ],
      "text/plain": [
       "<IPython.core.display.HTML object>"
      ]
     },
     "metadata": {},
     "output_type": "display_data"
    },
    {
     "data": {
      "text/html": [
       "<pre style=\"margin: 0.1em;\n",
       "padding-left: 0.25em;\n",
       "border-left-style: solid;\n",
       "font-family: var(--jp-code-font-family);\n",
       "font-size: var(--jp-code-font-size);\n",
       "line-height: var(--jp-code-line-height);\n",
       "\"><span style=\"color: var(--jp-warn-color2)\">prodstatus</span> <span style=\"color: var(--jp-success-color0)\">DEBUG</span>: Wrote /tmp/tmp4qzmhpu1/test_ehn_2021-03-01/steps/step1/workflows/test_ehn_2021-03-01_step1_g/bps_config.yaml</pre>"
      ],
      "text/plain": [
       "<IPython.core.display.HTML object>"
      ]
     },
     "metadata": {},
     "output_type": "display_data"
    },
    {
     "data": {
      "text/html": [
       "<pre style=\"margin: 0.1em;\n",
       "padding-left: 0.25em;\n",
       "border-left-style: solid;\n",
       "font-family: var(--jp-code-font-family);\n",
       "font-size: var(--jp-code-font-size);\n",
       "line-height: var(--jp-code-line-height);\n",
       "\"><span style=\"color: var(--jp-warn-color2)\">prodstatus</span> <span style=\"color: var(--jp-success-color0)\">DEBUG</span>: Wrote /tmp/tmp4qzmhpu1/test_ehn_2021-03-01/steps/step1/workflows/test_ehn_2021-03-01_step1_g/workflow.yaml</pre>"
      ],
      "text/plain": [
       "<IPython.core.display.HTML object>"
      ]
     },
     "metadata": {},
     "output_type": "display_data"
    },
    {
     "data": {
      "text/html": [
       "<pre style=\"margin: 0.1em;\n",
       "padding-left: 0.25em;\n",
       "border-left-style: solid;\n",
       "font-family: var(--jp-code-font-family);\n",
       "font-size: var(--jp-code-font-size);\n",
       "line-height: var(--jp-code-line-height);\n",
       "\"><span style=\"color: var(--jp-warn-color2)\">prodstatus</span> <span style=\"color: var(--jp-success-color0)\">DEBUG</span>: Wrote /tmp/tmp4qzmhpu1/test_ehn_2021-03-01/steps/step1/workflows/test_ehn_2021-03-01_step1_g/explist.txt</pre>"
      ],
      "text/plain": [
       "<IPython.core.display.HTML object>"
      ]
     },
     "metadata": {},
     "output_type": "display_data"
    },
    {
     "data": {
      "text/html": [
       "<pre style=\"margin: 0.1em;\n",
       "padding-left: 0.25em;\n",
       "border-left-style: solid;\n",
       "font-family: var(--jp-code-font-family);\n",
       "font-size: var(--jp-code-font-size);\n",
       "line-height: var(--jp-code-line-height);\n",
       "\"><span style=\"color: var(--jp-warn-color2)\">prodstatus</span> <span style=\"color: var(--jp-success-color0)\">DEBUG</span>: Wrote /tmp/tmp4qzmhpu1/test_ehn_2021-03-01/steps/step1/workflows/test_ehn_2021-03-01_step1_r/bps_config.yaml</pre>"
      ],
      "text/plain": [
       "<IPython.core.display.HTML object>"
      ]
     },
     "metadata": {},
     "output_type": "display_data"
    },
    {
     "data": {
      "text/html": [
       "<pre style=\"margin: 0.1em;\n",
       "padding-left: 0.25em;\n",
       "border-left-style: solid;\n",
       "font-family: var(--jp-code-font-family);\n",
       "font-size: var(--jp-code-font-size);\n",
       "line-height: var(--jp-code-line-height);\n",
       "\"><span style=\"color: var(--jp-warn-color2)\">prodstatus</span> <span style=\"color: var(--jp-success-color0)\">DEBUG</span>: Wrote /tmp/tmp4qzmhpu1/test_ehn_2021-03-01/steps/step1/workflows/test_ehn_2021-03-01_step1_r/workflow.yaml</pre>"
      ],
      "text/plain": [
       "<IPython.core.display.HTML object>"
      ]
     },
     "metadata": {},
     "output_type": "display_data"
    },
    {
     "data": {
      "text/html": [
       "<pre style=\"margin: 0.1em;\n",
       "padding-left: 0.25em;\n",
       "border-left-style: solid;\n",
       "font-family: var(--jp-code-font-family);\n",
       "font-size: var(--jp-code-font-size);\n",
       "line-height: var(--jp-code-line-height);\n",
       "\"><span style=\"color: var(--jp-warn-color2)\">prodstatus</span> <span style=\"color: var(--jp-success-color0)\">DEBUG</span>: Wrote /tmp/tmp4qzmhpu1/test_ehn_2021-03-01/steps/step1/workflows/test_ehn_2021-03-01_step1_r/explist.txt</pre>"
      ],
      "text/plain": [
       "<IPython.core.display.HTML object>"
      ]
     },
     "metadata": {},
     "output_type": "display_data"
    },
    {
     "data": {
      "text/html": [
       "<pre style=\"margin: 0.1em;\n",
       "padding-left: 0.25em;\n",
       "border-left-style: solid;\n",
       "font-family: var(--jp-code-font-family);\n",
       "font-size: var(--jp-code-font-size);\n",
       "line-height: var(--jp-code-line-height);\n",
       "\"><span style=\"color: var(--jp-warn-color2)\">prodstatus</span> <span style=\"color: var(--jp-success-color0)\">DEBUG</span>: Wrote /tmp/tmp4qzmhpu1/test_ehn_2021-03-01/steps/step2/step.yaml</pre>"
      ],
      "text/plain": [
       "<IPython.core.display.HTML object>"
      ]
     },
     "metadata": {},
     "output_type": "display_data"
    },
    {
     "data": {
      "text/html": [
       "<pre style=\"margin: 0.1em;\n",
       "padding-left: 0.25em;\n",
       "border-left-style: solid;\n",
       "font-family: var(--jp-code-font-family);\n",
       "font-size: var(--jp-code-font-size);\n",
       "line-height: var(--jp-code-line-height);\n",
       "\"><span style=\"color: var(--jp-warn-color2)\">prodstatus</span> <span style=\"color: var(--jp-success-color0)\">DEBUG</span>: Wrote /tmp/tmp4qzmhpu1/test_ehn_2021-03-01/steps/step2/workflows/test_ehn_2021-03-01_step2_g_1/bps_config.yaml</pre>"
      ],
      "text/plain": [
       "<IPython.core.display.HTML object>"
      ]
     },
     "metadata": {},
     "output_type": "display_data"
    },
    {
     "data": {
      "text/html": [
       "<pre style=\"margin: 0.1em;\n",
       "padding-left: 0.25em;\n",
       "border-left-style: solid;\n",
       "font-family: var(--jp-code-font-family);\n",
       "font-size: var(--jp-code-font-size);\n",
       "line-height: var(--jp-code-line-height);\n",
       "\"><span style=\"color: var(--jp-warn-color2)\">prodstatus</span> <span style=\"color: var(--jp-success-color0)\">DEBUG</span>: Wrote /tmp/tmp4qzmhpu1/test_ehn_2021-03-01/steps/step2/workflows/test_ehn_2021-03-01_step2_g_1/workflow.yaml</pre>"
      ],
      "text/plain": [
       "<IPython.core.display.HTML object>"
      ]
     },
     "metadata": {},
     "output_type": "display_data"
    },
    {
     "data": {
      "text/html": [
       "<pre style=\"margin: 0.1em;\n",
       "padding-left: 0.25em;\n",
       "border-left-style: solid;\n",
       "font-family: var(--jp-code-font-family);\n",
       "font-size: var(--jp-code-font-size);\n",
       "line-height: var(--jp-code-line-height);\n",
       "\"><span style=\"color: var(--jp-warn-color2)\">prodstatus</span> <span style=\"color: var(--jp-success-color0)\">DEBUG</span>: Wrote /tmp/tmp4qzmhpu1/test_ehn_2021-03-01/steps/step2/workflows/test_ehn_2021-03-01_step2_g_1/explist.txt</pre>"
      ],
      "text/plain": [
       "<IPython.core.display.HTML object>"
      ]
     },
     "metadata": {},
     "output_type": "display_data"
    },
    {
     "data": {
      "text/html": [
       "<pre style=\"margin: 0.1em;\n",
       "padding-left: 0.25em;\n",
       "border-left-style: solid;\n",
       "font-family: var(--jp-code-font-family);\n",
       "font-size: var(--jp-code-font-size);\n",
       "line-height: var(--jp-code-line-height);\n",
       "\"><span style=\"color: var(--jp-warn-color2)\">prodstatus</span> <span style=\"color: var(--jp-success-color0)\">DEBUG</span>: Wrote /tmp/tmp4qzmhpu1/test_ehn_2021-03-01/steps/step2/workflows/test_ehn_2021-03-01_step2_g_2/bps_config.yaml</pre>"
      ],
      "text/plain": [
       "<IPython.core.display.HTML object>"
      ]
     },
     "metadata": {},
     "output_type": "display_data"
    },
    {
     "data": {
      "text/html": [
       "<pre style=\"margin: 0.1em;\n",
       "padding-left: 0.25em;\n",
       "border-left-style: solid;\n",
       "font-family: var(--jp-code-font-family);\n",
       "font-size: var(--jp-code-font-size);\n",
       "line-height: var(--jp-code-line-height);\n",
       "\"><span style=\"color: var(--jp-warn-color2)\">prodstatus</span> <span style=\"color: var(--jp-success-color0)\">DEBUG</span>: Wrote /tmp/tmp4qzmhpu1/test_ehn_2021-03-01/steps/step2/workflows/test_ehn_2021-03-01_step2_g_2/workflow.yaml</pre>"
      ],
      "text/plain": [
       "<IPython.core.display.HTML object>"
      ]
     },
     "metadata": {},
     "output_type": "display_data"
    },
    {
     "data": {
      "text/html": [
       "<pre style=\"margin: 0.1em;\n",
       "padding-left: 0.25em;\n",
       "border-left-style: solid;\n",
       "font-family: var(--jp-code-font-family);\n",
       "font-size: var(--jp-code-font-size);\n",
       "line-height: var(--jp-code-line-height);\n",
       "\"><span style=\"color: var(--jp-warn-color2)\">prodstatus</span> <span style=\"color: var(--jp-success-color0)\">DEBUG</span>: Wrote /tmp/tmp4qzmhpu1/test_ehn_2021-03-01/steps/step2/workflows/test_ehn_2021-03-01_step2_g_2/explist.txt</pre>"
      ],
      "text/plain": [
       "<IPython.core.display.HTML object>"
      ]
     },
     "metadata": {},
     "output_type": "display_data"
    },
    {
     "data": {
      "text/html": [
       "<pre style=\"margin: 0.1em;\n",
       "padding-left: 0.25em;\n",
       "border-left-style: solid;\n",
       "font-family: var(--jp-code-font-family);\n",
       "font-size: var(--jp-code-font-size);\n",
       "line-height: var(--jp-code-line-height);\n",
       "\"><span style=\"color: var(--jp-warn-color2)\">prodstatus</span> <span style=\"color: var(--jp-success-color0)\">DEBUG</span>: Wrote /tmp/tmp4qzmhpu1/test_ehn_2021-03-01/steps/step2/workflows/test_ehn_2021-03-01_step2_r/bps_config.yaml</pre>"
      ],
      "text/plain": [
       "<IPython.core.display.HTML object>"
      ]
     },
     "metadata": {},
     "output_type": "display_data"
    },
    {
     "data": {
      "text/html": [
       "<pre style=\"margin: 0.1em;\n",
       "padding-left: 0.25em;\n",
       "border-left-style: solid;\n",
       "font-family: var(--jp-code-font-family);\n",
       "font-size: var(--jp-code-font-size);\n",
       "line-height: var(--jp-code-line-height);\n",
       "\"><span style=\"color: var(--jp-warn-color2)\">prodstatus</span> <span style=\"color: var(--jp-success-color0)\">DEBUG</span>: Wrote /tmp/tmp4qzmhpu1/test_ehn_2021-03-01/steps/step2/workflows/test_ehn_2021-03-01_step2_r/workflow.yaml</pre>"
      ],
      "text/plain": [
       "<IPython.core.display.HTML object>"
      ]
     },
     "metadata": {},
     "output_type": "display_data"
    },
    {
     "data": {
      "text/html": [
       "<pre style=\"margin: 0.1em;\n",
       "padding-left: 0.25em;\n",
       "border-left-style: solid;\n",
       "font-family: var(--jp-code-font-family);\n",
       "font-size: var(--jp-code-font-size);\n",
       "line-height: var(--jp-code-line-height);\n",
       "\"><span style=\"color: var(--jp-warn-color2)\">prodstatus</span> <span style=\"color: var(--jp-success-color0)\">DEBUG</span>: Wrote /tmp/tmp4qzmhpu1/test_ehn_2021-03-01/steps/step2/workflows/test_ehn_2021-03-01_step2_r/explist.txt</pre>"
      ],
      "text/plain": [
       "<IPython.core.display.HTML object>"
      ]
     },
     "metadata": {},
     "output_type": "display_data"
    },
    {
     "data": {
      "text/html": [
       "<pre style=\"margin: 0.1em;\n",
       "padding-left: 0.25em;\n",
       "border-left-style: solid;\n",
       "font-family: var(--jp-code-font-family);\n",
       "font-size: var(--jp-code-font-size);\n",
       "line-height: var(--jp-code-line-height);\n",
       "\"><span style=\"color: var(--jp-warn-color2)\">prodstatus</span> <span style=\"color: var(--jp-success-color0)\">DEBUG</span>: Wrote /tmp/tmp4qzmhpu1/test_ehn_2021-03-01/explist.txt</pre>"
      ],
      "text/plain": [
       "<IPython.core.display.HTML object>"
      ]
     },
     "metadata": {},
     "output_type": "display_data"
    }
   ],
   "source": [
    "campaign.to_files(campaign_dir_path)"
   ]
  },
  {
   "cell_type": "code",
   "execution_count": 44,
   "id": "5cf96dfe-d519-49e9-8bea-2f2713289c93",
   "metadata": {},
   "outputs": [
    {
     "name": "stdout",
     "output_type": "stream",
     "text": [
      "/tmp/tmp4qzmhpu1\n",
      "/tmp/tmp4qzmhpu1/test_ehn_2021-03-01\n",
      "/tmp/tmp4qzmhpu1/test_ehn_2021-03-01/campaign.yaml\n",
      "/tmp/tmp4qzmhpu1/test_ehn_2021-03-01/steps\n",
      "/tmp/tmp4qzmhpu1/test_ehn_2021-03-01/steps/step2\n",
      "/tmp/tmp4qzmhpu1/test_ehn_2021-03-01/steps/step2/step.yaml\n",
      "/tmp/tmp4qzmhpu1/test_ehn_2021-03-01/steps/step2/workflows\n",
      "/tmp/tmp4qzmhpu1/test_ehn_2021-03-01/steps/step2/workflows/test_ehn_2021-03-01_step2_r\n",
      "/tmp/tmp4qzmhpu1/test_ehn_2021-03-01/steps/step2/workflows/test_ehn_2021-03-01_step2_r/workflow.yaml\n",
      "/tmp/tmp4qzmhpu1/test_ehn_2021-03-01/steps/step2/workflows/test_ehn_2021-03-01_step2_r/bps_config.yaml\n",
      "/tmp/tmp4qzmhpu1/test_ehn_2021-03-01/steps/step2/workflows/test_ehn_2021-03-01_step2_r/explist.txt\n",
      "/tmp/tmp4qzmhpu1/test_ehn_2021-03-01/steps/step2/workflows/test_ehn_2021-03-01_step2_g_2\n",
      "/tmp/tmp4qzmhpu1/test_ehn_2021-03-01/steps/step2/workflows/test_ehn_2021-03-01_step2_g_2/workflow.yaml\n",
      "/tmp/tmp4qzmhpu1/test_ehn_2021-03-01/steps/step2/workflows/test_ehn_2021-03-01_step2_g_2/bps_config.yaml\n",
      "/tmp/tmp4qzmhpu1/test_ehn_2021-03-01/steps/step2/workflows/test_ehn_2021-03-01_step2_g_2/explist.txt\n",
      "/tmp/tmp4qzmhpu1/test_ehn_2021-03-01/steps/step2/workflows/test_ehn_2021-03-01_step2_g_1\n",
      "/tmp/tmp4qzmhpu1/test_ehn_2021-03-01/steps/step2/workflows/test_ehn_2021-03-01_step2_g_1/workflow.yaml\n",
      "/tmp/tmp4qzmhpu1/test_ehn_2021-03-01/steps/step2/workflows/test_ehn_2021-03-01_step2_g_1/bps_config.yaml\n",
      "/tmp/tmp4qzmhpu1/test_ehn_2021-03-01/steps/step2/workflows/test_ehn_2021-03-01_step2_g_1/explist.txt\n",
      "/tmp/tmp4qzmhpu1/test_ehn_2021-03-01/steps/step1\n",
      "/tmp/tmp4qzmhpu1/test_ehn_2021-03-01/steps/step1/step.yaml\n",
      "/tmp/tmp4qzmhpu1/test_ehn_2021-03-01/steps/step1/workflows\n",
      "/tmp/tmp4qzmhpu1/test_ehn_2021-03-01/steps/step1/workflows/test_ehn_2021-03-01_step1_g\n",
      "/tmp/tmp4qzmhpu1/test_ehn_2021-03-01/steps/step1/workflows/test_ehn_2021-03-01_step1_g/workflow.yaml\n",
      "/tmp/tmp4qzmhpu1/test_ehn_2021-03-01/steps/step1/workflows/test_ehn_2021-03-01_step1_g/bps_config.yaml\n",
      "/tmp/tmp4qzmhpu1/test_ehn_2021-03-01/steps/step1/workflows/test_ehn_2021-03-01_step1_g/explist.txt\n",
      "/tmp/tmp4qzmhpu1/test_ehn_2021-03-01/steps/step1/workflows/test_ehn_2021-03-01_step1_r\n",
      "/tmp/tmp4qzmhpu1/test_ehn_2021-03-01/steps/step1/workflows/test_ehn_2021-03-01_step1_r/workflow.yaml\n",
      "/tmp/tmp4qzmhpu1/test_ehn_2021-03-01/steps/step1/workflows/test_ehn_2021-03-01_step1_r/bps_config.yaml\n",
      "/tmp/tmp4qzmhpu1/test_ehn_2021-03-01/steps/step1/workflows/test_ehn_2021-03-01_step1_r/explist.txt\n",
      "/tmp/tmp4qzmhpu1/test_ehn_2021-03-01/explist.txt\n"
     ]
    }
   ],
   "source": [
    "!find {campaign_dir_path}"
   ]
  },
  {
   "cell_type": "code",
   "execution_count": 45,
   "id": "92a51cd2-e5a2-43da-9fb0-a7b799d9779c",
   "metadata": {},
   "outputs": [
    {
     "name": "stdout",
     "output_type": "stream",
     "text": [
      "name: test_ehn_2021-03-01\n",
      "steps:\n",
      "    step1:\n",
      "        exposure_groups: {}\n",
      "        issue: null\n",
      "        split_bands: true\n",
      "    step2:\n",
      "        exposure_groups:\n",
      "            group_size: 4\n",
      "        issue: null\n",
      "        split_bands: true\n"
     ]
    }
   ],
   "source": [
    "!cat {campaign_dir_path}/{campaign.name}/campaign.yaml"
   ]
  },
  {
   "cell_type": "markdown",
   "id": "6b36fefe-5c81-4dc1-a0a2-7f0fcc1d8e5b",
   "metadata": {},
   "source": [
    "## Modification of campaigns, steps, and workflows"
   ]
  },
  {
   "cell_type": "markdown",
   "id": "901688a8-c3c8-4a39-85bb-1e8a92904692",
   "metadata": {},
   "source": [
    "The `steps` member of a `Campaign` and the `workflows` member of `Step` are just lists of the corresponding objects: the user can add or remove them as desired."
   ]
  },
  {
   "cell_type": "markdown",
   "id": "8bcc3e1b-2ffb-433b-8291-3628855ee17b",
   "metadata": {},
   "source": [
    "Let's start by creating a new instance of `Campaign` as a starting point (repeating what we did above):"
   ]
  },
  {
   "cell_type": "code",
   "execution_count": 46,
   "id": "253c6112-697e-4187-b4e4-8789537876b2",
   "metadata": {},
   "outputs": [
    {
     "name": "stdout",
     "output_type": "stream",
     "text": [
      "Campaign\n",
      "name: Grace\n",
      "issue name: None\n",
      "steps:\n",
      " - Eve (issue None) with 2 workflows\n",
      " - Frank (issue None) with 2 workflows\n"
     ]
    }
   ],
   "source": [
    "eve_workflows = [\n",
    "    Workflow(bps_config, 'Graham'),\n",
    "    Workflow(bps_config, 'John')\n",
    "]\n",
    "frank_workflows = [\n",
    "    Workflow(bps_config, 'Terry'),\n",
    "    Workflow(bps_config, 'Michael')\n",
    "]\n",
    "grace_steps = [\n",
    "    Step('Eve', workflows=eve_workflows),\n",
    "    Step('Frank', workflows=frank_workflows)\n",
    "]\n",
    "campaign = Campaign('Grace', steps=grace_steps)\n",
    "print(campaign)"
   ]
  },
  {
   "cell_type": "markdown",
   "id": "aec2c418-45b3-4898-a2af-1a17ff81be05",
   "metadata": {},
   "source": [
    "We can add a workflow to one of the steps in the `Campaign` defined above:"
   ]
  },
  {
   "cell_type": "code",
   "execution_count": 47,
   "id": "8e442121-e749-4c7b-814b-08bd268daf85",
   "metadata": {},
   "outputs": [
    {
     "name": "stdout",
     "output_type": "stream",
     "text": [
      "Campaign\n",
      "name: Grace\n",
      "issue name: None\n",
      "steps:\n",
      " - Eve (issue None) with 2 workflows\n",
      " - Frank (issue None) with 3 workflows\n"
     ]
    }
   ],
   "source": [
    "extra_workflow = Workflow(bps_config, 'Harry')\n",
    "campaign.steps[1].workflows.append(extra_workflow)\n",
    "print(campaign)"
   ]
  },
  {
   "cell_type": "markdown",
   "id": "62401ba5-93db-4452-ab12-4a8af92cd8e6",
   "metadata": {},
   "source": [
    "Notice that the step named `Frank`, the second step in the list (so the one with index `1`) had 2 workflows in it before, and now it has 3, because we just added one."
   ]
  },
  {
   "cell_type": "code",
   "execution_count": 48,
   "id": "0fea682f-0ae6-4393-8a47-2ad728166c02",
   "metadata": {},
   "outputs": [
    {
     "name": "stdout",
     "output_type": "stream",
     "text": [
      "Step\n",
      "name: Frank\n",
      "issue name: None\n",
      "split bands: False\n",
      "exposure groups: None\n",
      "workflows:\n",
      " - Terry (issue None) with dataQuery instrument='LSSTCam-imSim' and skymap='DC2'\n",
      " - Michael (issue None) with dataQuery instrument='LSSTCam-imSim' and skymap='DC2'\n",
      " - Harry (issue None) with dataQuery instrument='LSSTCam-imSim' and skymap='DC2'\n"
     ]
    }
   ],
   "source": [
    "print(campaign.steps[1])"
   ]
  },
  {
   "cell_type": "markdown",
   "id": "e145e639-319a-468d-b9f0-132fc76d5c7e",
   "metadata": {},
   "source": [
    "Similarly, we can build a whole new step and add it:"
   ]
  },
  {
   "cell_type": "code",
   "execution_count": 49,
   "id": "0858310d-cfbe-4d69-86d0-eecf7416c62f",
   "metadata": {},
   "outputs": [
    {
     "name": "stdout",
     "output_type": "stream",
     "text": [
      "Campaign\n",
      "name: Grace\n",
      "issue name: None\n",
      "steps:\n",
      " - Eve (issue None) with 2 workflows\n",
      " - Frank (issue None) with 3 workflows\n",
      " - Ingrid (issue None) with 3 workflows\n"
     ]
    }
   ],
   "source": [
    "step = Step.generate_new('Ingrid', base_bps_config=bps_config, split_bands=True, exposure_groups=exposure_groups, exposures=exposures, workflow_base_name='wf')\n",
    "campaign.steps.append(step)\n",
    "print(campaign)"
   ]
  },
  {
   "cell_type": "markdown",
   "id": "36244fa5-9bc5-4d71-a2f0-3ff6b955294c",
   "metadata": {},
   "source": [
    "We can also get rid of steps and workflows using `remove`, `del`, and other python commands that remove elements from a list:"
   ]
  },
  {
   "cell_type": "code",
   "execution_count": 50,
   "id": "6c49a933-a977-4e8a-a66d-de1c4a818e13",
   "metadata": {},
   "outputs": [
    {
     "name": "stdout",
     "output_type": "stream",
     "text": [
      "Campaign\n",
      "name: Grace\n",
      "issue name: None\n",
      "steps:\n",
      " - Eve (issue None) with 2 workflows\n",
      " - Ingrid (issue None) with 3 workflows\n"
     ]
    }
   ],
   "source": [
    "del campaign.steps[1]\n",
    "print(campaign)"
   ]
  },
  {
   "cell_type": "markdown",
   "id": "9242a7cd-e751-4545-817b-dbb6d2790aad",
   "metadata": {},
   "source": [
    "# Test saving a campaign to jira"
   ]
  },
  {
   "cell_type": "markdown",
   "id": "12461df7-6bdd-4523-8d21-9c8b8a17a378",
   "metadata": {},
   "source": [
    "Begin by cutting down our test campaign to just one step with just one workflow."
   ]
  },
  {
   "cell_type": "code",
   "execution_count": 51,
   "id": "b4e31a85-f666-4bff-96de-94232d69e482",
   "metadata": {},
   "outputs": [],
   "source": [
    "workflow = Workflow(bps_config, 'Kelly', exposures=exposures)\n",
    "step = Step('Larry', workflows=[workflow], exposures=exposures)\n",
    "campaign = Campaign('Mary', steps=[step])"
   ]
  },
  {
   "cell_type": "markdown",
   "id": "484d6bcb-8621-4128-aa68-201d4a635fd3",
   "metadata": {},
   "source": [
    "Let's assign them issue name so we don't make extra issues in jira every time we run this notebook. (I could have done this when I created them, above, but I separate it out to make it easier to comment out if we want the notebook to create all new issues.)"
   ]
  },
  {
   "cell_type": "code",
   "execution_count": 52,
   "id": "5972a249-d123-475a-b685-c5ee41561d6f",
   "metadata": {},
   "outputs": [],
   "source": [
    "workflow.issue_name = 'DRP-187'\n",
    "step.issue_name = 'DRP-186'\n",
    "campaign.issue_name = 'DRP-185'"
   ]
  },
  {
   "cell_type": "markdown",
   "id": "6c244990-1c45-4931-bb84-617de9491f91",
   "metadata": {},
   "source": [
    "Take a look at what we have created:"
   ]
  },
  {
   "cell_type": "code",
   "execution_count": 53,
   "id": "a3c6b317-2146-4ce0-aa97-887c5bf633e9",
   "metadata": {},
   "outputs": [
    {
     "name": "stdout",
     "output_type": "stream",
     "text": [
      "Campaign\n",
      "name: Mary\n",
      "issue name: DRP-185\n",
      "steps:\n",
      " - Larry (issue DRP-186) with 1 workflows\n",
      "\n",
      "Step\n",
      "name: Larry\n",
      "issue name: DRP-186\n",
      "split bands: False\n",
      "exposure groups: None\n",
      "workflows:\n",
      " - Kelly (issue DRP-187) with dataQuery instrument='LSSTCam-imSim' and skymap='DC2'\n",
      "\n",
      "Workflow\n",
      "name: Kelly\n",
      "issue name: DRP-187\n",
      "step: None\n",
      "band: all\n",
      "BPS config dataQuery: instrument='LSSTCam-imSim' and skymap='DC2'\n",
      "number of exposures: 10\n",
      "min exposure id: 1280\n",
      "max exposure id: 9748\n",
      "exposure counts by band: {'g': 6, 'r': 4}\n",
      "\n"
     ]
    }
   ],
   "source": [
    "print(campaign)\n",
    "print()\n",
    "for this_step in campaign.steps:\n",
    "    print(this_step)\n",
    "    print()\n",
    "    for this_workflow in this_step.workflows:\n",
    "        print(this_workflow)"
   ]
  },
  {
   "cell_type": "markdown",
   "id": "7345b755-3a82-4483-b52a-0f6520f66d95",
   "metadata": {},
   "source": [
    "Now, connect to the jira client and actually save the campaign:"
   ]
  },
  {
   "cell_type": "code",
   "execution_count": 54,
   "id": "4774e4b4-3651-4821-9837-8a3527bd0a3a",
   "metadata": {},
   "outputs": [],
   "source": [
    "secrets = netrc.netrc()\n",
    "username, account, password = secrets.authenticators(\"lsstjira\")\n",
    "jira_client = jira.JIRA(options={\"server\": account}, basic_auth=(username, password))"
   ]
  },
  {
   "cell_type": "code",
   "execution_count": 55,
   "id": "1ff62491-25c2-4ea5-b0eb-eed91671a629",
   "metadata": {},
   "outputs": [
    {
     "data": {
      "text/html": [
       "<pre style=\"margin: 0.1em;\n",
       "padding-left: 0.25em;\n",
       "border-left-style: solid;\n",
       "font-family: var(--jp-code-font-family);\n",
       "font-size: var(--jp-code-font-size);\n",
       "line-height: var(--jp-code-line-height);\n",
       "\"><span style=\"color: var(--jp-warn-color2)\">prodstatus</span> <span style=\"color: var(--jp-success-color0)\">DEBUG</span>: Wrote /tmp/tmpe8vewovc/Kelly/bps_config.yaml</pre>"
      ],
      "text/plain": [
       "<IPython.core.display.HTML object>"
      ]
     },
     "metadata": {},
     "output_type": "display_data"
    },
    {
     "data": {
      "text/html": [
       "<pre style=\"margin: 0.1em;\n",
       "padding-left: 0.25em;\n",
       "border-left-style: solid;\n",
       "font-family: var(--jp-code-font-family);\n",
       "font-size: var(--jp-code-font-size);\n",
       "line-height: var(--jp-code-line-height);\n",
       "\"><span style=\"color: var(--jp-warn-color2)\">prodstatus</span> <span style=\"color: var(--jp-success-color0)\">DEBUG</span>: Wrote /tmp/tmpe8vewovc/Kelly/workflow.yaml</pre>"
      ],
      "text/plain": [
       "<IPython.core.display.HTML object>"
      ]
     },
     "metadata": {},
     "output_type": "display_data"
    },
    {
     "data": {
      "text/html": [
       "<pre style=\"margin: 0.1em;\n",
       "padding-left: 0.25em;\n",
       "border-left-style: solid;\n",
       "font-family: var(--jp-code-font-family);\n",
       "font-size: var(--jp-code-font-size);\n",
       "line-height: var(--jp-code-line-height);\n",
       "\"><span style=\"color: var(--jp-warn-color2)\">prodstatus</span> <span style=\"color: var(--jp-success-color0)\">DEBUG</span>: Wrote /tmp/tmpe8vewovc/Kelly/explist.txt</pre>"
      ],
      "text/plain": [
       "<IPython.core.display.HTML object>"
      ]
     },
     "metadata": {},
     "output_type": "display_data"
    },
    {
     "data": {
      "text/html": [
       "<pre style=\"margin: 0.1em;\n",
       "padding-left: 0.25em;\n",
       "border-left-style: solid;\n",
       "font-family: var(--jp-code-font-family);\n",
       "font-size: var(--jp-code-font-size);\n",
       "line-height: var(--jp-code-line-height);\n",
       "\"><span style=\"color: var(--jp-warn-color2)\">prodstatus</span> <span style=\"color: var(--jp-warn-color0)\">WARNING</span>: removing old attachment bps_config.yaml from DRP-187</pre>"
      ],
      "text/plain": [
       "<IPython.core.display.HTML object>"
      ]
     },
     "metadata": {},
     "output_type": "display_data"
    },
    {
     "data": {
      "text/html": [
       "<pre style=\"margin: 0.1em;\n",
       "padding-left: 0.25em;\n",
       "border-left-style: solid;\n",
       "font-family: var(--jp-code-font-family);\n",
       "font-size: var(--jp-code-font-size);\n",
       "line-height: var(--jp-code-line-height);\n",
       "\"><span style=\"color: var(--jp-warn-color2)\">prodstatus</span> <span style=\"color: var(--jp-success-color0)\">DEBUG</span>: Added bps_config.yaml to DRP-187</pre>"
      ],
      "text/plain": [
       "<IPython.core.display.HTML object>"
      ]
     },
     "metadata": {},
     "output_type": "display_data"
    },
    {
     "data": {
      "text/html": [
       "<pre style=\"margin: 0.1em;\n",
       "padding-left: 0.25em;\n",
       "border-left-style: solid;\n",
       "font-family: var(--jp-code-font-family);\n",
       "font-size: var(--jp-code-font-size);\n",
       "line-height: var(--jp-code-line-height);\n",
       "\"><span style=\"color: var(--jp-warn-color2)\">prodstatus</span> <span style=\"color: var(--jp-warn-color0)\">WARNING</span>: removing old attachment workflow.yaml from DRP-187</pre>"
      ],
      "text/plain": [
       "<IPython.core.display.HTML object>"
      ]
     },
     "metadata": {},
     "output_type": "display_data"
    },
    {
     "data": {
      "text/html": [
       "<pre style=\"margin: 0.1em;\n",
       "padding-left: 0.25em;\n",
       "border-left-style: solid;\n",
       "font-family: var(--jp-code-font-family);\n",
       "font-size: var(--jp-code-font-size);\n",
       "line-height: var(--jp-code-line-height);\n",
       "\"><span style=\"color: var(--jp-warn-color2)\">prodstatus</span> <span style=\"color: var(--jp-success-color0)\">DEBUG</span>: Added workflow.yaml to DRP-187</pre>"
      ],
      "text/plain": [
       "<IPython.core.display.HTML object>"
      ]
     },
     "metadata": {},
     "output_type": "display_data"
    },
    {
     "data": {
      "text/html": [
       "<pre style=\"margin: 0.1em;\n",
       "padding-left: 0.25em;\n",
       "border-left-style: solid;\n",
       "font-family: var(--jp-code-font-family);\n",
       "font-size: var(--jp-code-font-size);\n",
       "line-height: var(--jp-code-line-height);\n",
       "\"><span style=\"color: var(--jp-warn-color2)\">prodstatus</span> <span style=\"color: var(--jp-warn-color0)\">WARNING</span>: removing old attachment explist.txt from DRP-187</pre>"
      ],
      "text/plain": [
       "<IPython.core.display.HTML object>"
      ]
     },
     "metadata": {},
     "output_type": "display_data"
    },
    {
     "data": {
      "text/html": [
       "<pre style=\"margin: 0.1em;\n",
       "padding-left: 0.25em;\n",
       "border-left-style: solid;\n",
       "font-family: var(--jp-code-font-family);\n",
       "font-size: var(--jp-code-font-size);\n",
       "line-height: var(--jp-code-line-height);\n",
       "\"><span style=\"color: var(--jp-warn-color2)\">prodstatus</span> <span style=\"color: var(--jp-success-color0)\">DEBUG</span>: Added explist.txt to DRP-187</pre>"
      ],
      "text/plain": [
       "<IPython.core.display.HTML object>"
      ]
     },
     "metadata": {},
     "output_type": "display_data"
    },
    {
     "data": {
      "text/html": [
       "<pre style=\"margin: 0.1em;\n",
       "padding-left: 0.25em;\n",
       "border-left-style: solid;\n",
       "font-family: var(--jp-code-font-family);\n",
       "font-size: var(--jp-code-font-size);\n",
       "line-height: var(--jp-code-line-height);\n",
       "\"><span style=\"color: var(--jp-warn-color2)\">prodstatus</span> <span style=\"color: var(--jp-success-color0)\">DEBUG</span>: Wrote /tmp/tmp2ztw12xx/Larry/step.yaml</pre>"
      ],
      "text/plain": [
       "<IPython.core.display.HTML object>"
      ]
     },
     "metadata": {},
     "output_type": "display_data"
    },
    {
     "data": {
      "text/html": [
       "<pre style=\"margin: 0.1em;\n",
       "padding-left: 0.25em;\n",
       "border-left-style: solid;\n",
       "font-family: var(--jp-code-font-family);\n",
       "font-size: var(--jp-code-font-size);\n",
       "line-height: var(--jp-code-line-height);\n",
       "\"><span style=\"color: var(--jp-warn-color2)\">prodstatus</span> <span style=\"color: var(--jp-success-color0)\">DEBUG</span>: Wrote /tmp/tmp2ztw12xx/Larry/explist.txt</pre>"
      ],
      "text/plain": [
       "<IPython.core.display.HTML object>"
      ]
     },
     "metadata": {},
     "output_type": "display_data"
    },
    {
     "data": {
      "text/html": [
       "<pre style=\"margin: 0.1em;\n",
       "padding-left: 0.25em;\n",
       "border-left-style: solid;\n",
       "font-family: var(--jp-code-font-family);\n",
       "font-size: var(--jp-code-font-size);\n",
       "line-height: var(--jp-code-line-height);\n",
       "\"><span style=\"color: var(--jp-warn-color2)\">prodstatus</span> <span style=\"color: var(--jp-success-color0)\">DEBUG</span>: Wrote /tmp/tmp2ztw12xx/Larry/workflows/Kelly/bps_config.yaml</pre>"
      ],
      "text/plain": [
       "<IPython.core.display.HTML object>"
      ]
     },
     "metadata": {},
     "output_type": "display_data"
    },
    {
     "data": {
      "text/html": [
       "<pre style=\"margin: 0.1em;\n",
       "padding-left: 0.25em;\n",
       "border-left-style: solid;\n",
       "font-family: var(--jp-code-font-family);\n",
       "font-size: var(--jp-code-font-size);\n",
       "line-height: var(--jp-code-line-height);\n",
       "\"><span style=\"color: var(--jp-warn-color2)\">prodstatus</span> <span style=\"color: var(--jp-success-color0)\">DEBUG</span>: Wrote /tmp/tmp2ztw12xx/Larry/workflows/Kelly/workflow.yaml</pre>"
      ],
      "text/plain": [
       "<IPython.core.display.HTML object>"
      ]
     },
     "metadata": {},
     "output_type": "display_data"
    },
    {
     "data": {
      "text/html": [
       "<pre style=\"margin: 0.1em;\n",
       "padding-left: 0.25em;\n",
       "border-left-style: solid;\n",
       "font-family: var(--jp-code-font-family);\n",
       "font-size: var(--jp-code-font-size);\n",
       "line-height: var(--jp-code-line-height);\n",
       "\"><span style=\"color: var(--jp-warn-color2)\">prodstatus</span> <span style=\"color: var(--jp-success-color0)\">DEBUG</span>: Wrote /tmp/tmp2ztw12xx/Larry/workflows/Kelly/explist.txt</pre>"
      ],
      "text/plain": [
       "<IPython.core.display.HTML object>"
      ]
     },
     "metadata": {},
     "output_type": "display_data"
    },
    {
     "data": {
      "text/html": [
       "<pre style=\"margin: 0.1em;\n",
       "padding-left: 0.25em;\n",
       "border-left-style: solid;\n",
       "font-family: var(--jp-code-font-family);\n",
       "font-size: var(--jp-code-font-size);\n",
       "line-height: var(--jp-code-line-height);\n",
       "\"><span style=\"color: var(--jp-warn-color2)\">prodstatus</span> <span style=\"color: var(--jp-warn-color0)\">WARNING</span>: removing old attachment step.yaml from DRP-186</pre>"
      ],
      "text/plain": [
       "<IPython.core.display.HTML object>"
      ]
     },
     "metadata": {},
     "output_type": "display_data"
    },
    {
     "data": {
      "text/html": [
       "<pre style=\"margin: 0.1em;\n",
       "padding-left: 0.25em;\n",
       "border-left-style: solid;\n",
       "font-family: var(--jp-code-font-family);\n",
       "font-size: var(--jp-code-font-size);\n",
       "line-height: var(--jp-code-line-height);\n",
       "\"><span style=\"color: var(--jp-warn-color2)\">prodstatus</span> <span style=\"color: var(--jp-success-color0)\">DEBUG</span>: Added step.yaml to DRP-186</pre>"
      ],
      "text/plain": [
       "<IPython.core.display.HTML object>"
      ]
     },
     "metadata": {},
     "output_type": "display_data"
    },
    {
     "data": {
      "text/html": [
       "<pre style=\"margin: 0.1em;\n",
       "padding-left: 0.25em;\n",
       "border-left-style: solid;\n",
       "font-family: var(--jp-code-font-family);\n",
       "font-size: var(--jp-code-font-size);\n",
       "line-height: var(--jp-code-line-height);\n",
       "\"><span style=\"color: var(--jp-warn-color2)\">prodstatus</span> <span style=\"color: var(--jp-warn-color0)\">WARNING</span>: removing old attachment explist.txt from DRP-186</pre>"
      ],
      "text/plain": [
       "<IPython.core.display.HTML object>"
      ]
     },
     "metadata": {},
     "output_type": "display_data"
    },
    {
     "data": {
      "text/html": [
       "<pre style=\"margin: 0.1em;\n",
       "padding-left: 0.25em;\n",
       "border-left-style: solid;\n",
       "font-family: var(--jp-code-font-family);\n",
       "font-size: var(--jp-code-font-size);\n",
       "line-height: var(--jp-code-line-height);\n",
       "\"><span style=\"color: var(--jp-warn-color2)\">prodstatus</span> <span style=\"color: var(--jp-success-color0)\">DEBUG</span>: Added explist.txt to DRP-186</pre>"
      ],
      "text/plain": [
       "<IPython.core.display.HTML object>"
      ]
     },
     "metadata": {},
     "output_type": "display_data"
    },
    {
     "data": {
      "text/html": [
       "<pre style=\"margin: 0.1em;\n",
       "padding-left: 0.25em;\n",
       "border-left-style: solid;\n",
       "font-family: var(--jp-code-font-family);\n",
       "font-size: var(--jp-code-font-size);\n",
       "line-height: var(--jp-code-line-height);\n",
       "\"><span style=\"color: var(--jp-warn-color2)\">prodstatus</span> <span style=\"color: var(--jp-success-color0)\">DEBUG</span>: Wrote /tmp/tmpbgm47roy/Mary/campaign.yaml</pre>"
      ],
      "text/plain": [
       "<IPython.core.display.HTML object>"
      ]
     },
     "metadata": {},
     "output_type": "display_data"
    },
    {
     "data": {
      "text/html": [
       "<pre style=\"margin: 0.1em;\n",
       "padding-left: 0.25em;\n",
       "border-left-style: solid;\n",
       "font-family: var(--jp-code-font-family);\n",
       "font-size: var(--jp-code-font-size);\n",
       "line-height: var(--jp-code-line-height);\n",
       "\"><span style=\"color: var(--jp-warn-color2)\">prodstatus</span> <span style=\"color: var(--jp-success-color0)\">DEBUG</span>: Wrote /tmp/tmpbgm47roy/Mary/steps/Larry/step.yaml</pre>"
      ],
      "text/plain": [
       "<IPython.core.display.HTML object>"
      ]
     },
     "metadata": {},
     "output_type": "display_data"
    },
    {
     "data": {
      "text/html": [
       "<pre style=\"margin: 0.1em;\n",
       "padding-left: 0.25em;\n",
       "border-left-style: solid;\n",
       "font-family: var(--jp-code-font-family);\n",
       "font-size: var(--jp-code-font-size);\n",
       "line-height: var(--jp-code-line-height);\n",
       "\"><span style=\"color: var(--jp-warn-color2)\">prodstatus</span> <span style=\"color: var(--jp-success-color0)\">DEBUG</span>: Wrote /tmp/tmpbgm47roy/Mary/steps/Larry/explist.txt</pre>"
      ],
      "text/plain": [
       "<IPython.core.display.HTML object>"
      ]
     },
     "metadata": {},
     "output_type": "display_data"
    },
    {
     "data": {
      "text/html": [
       "<pre style=\"margin: 0.1em;\n",
       "padding-left: 0.25em;\n",
       "border-left-style: solid;\n",
       "font-family: var(--jp-code-font-family);\n",
       "font-size: var(--jp-code-font-size);\n",
       "line-height: var(--jp-code-line-height);\n",
       "\"><span style=\"color: var(--jp-warn-color2)\">prodstatus</span> <span style=\"color: var(--jp-success-color0)\">DEBUG</span>: Wrote /tmp/tmpbgm47roy/Mary/steps/Larry/workflows/Kelly/bps_config.yaml</pre>"
      ],
      "text/plain": [
       "<IPython.core.display.HTML object>"
      ]
     },
     "metadata": {},
     "output_type": "display_data"
    },
    {
     "data": {
      "text/html": [
       "<pre style=\"margin: 0.1em;\n",
       "padding-left: 0.25em;\n",
       "border-left-style: solid;\n",
       "font-family: var(--jp-code-font-family);\n",
       "font-size: var(--jp-code-font-size);\n",
       "line-height: var(--jp-code-line-height);\n",
       "\"><span style=\"color: var(--jp-warn-color2)\">prodstatus</span> <span style=\"color: var(--jp-success-color0)\">DEBUG</span>: Wrote /tmp/tmpbgm47roy/Mary/steps/Larry/workflows/Kelly/workflow.yaml</pre>"
      ],
      "text/plain": [
       "<IPython.core.display.HTML object>"
      ]
     },
     "metadata": {},
     "output_type": "display_data"
    },
    {
     "data": {
      "text/html": [
       "<pre style=\"margin: 0.1em;\n",
       "padding-left: 0.25em;\n",
       "border-left-style: solid;\n",
       "font-family: var(--jp-code-font-family);\n",
       "font-size: var(--jp-code-font-size);\n",
       "line-height: var(--jp-code-line-height);\n",
       "\"><span style=\"color: var(--jp-warn-color2)\">prodstatus</span> <span style=\"color: var(--jp-success-color0)\">DEBUG</span>: Wrote /tmp/tmpbgm47roy/Mary/steps/Larry/workflows/Kelly/explist.txt</pre>"
      ],
      "text/plain": [
       "<IPython.core.display.HTML object>"
      ]
     },
     "metadata": {},
     "output_type": "display_data"
    },
    {
     "data": {
      "text/html": [
       "<pre style=\"margin: 0.1em;\n",
       "padding-left: 0.25em;\n",
       "border-left-style: solid;\n",
       "font-family: var(--jp-code-font-family);\n",
       "font-size: var(--jp-code-font-size);\n",
       "line-height: var(--jp-code-line-height);\n",
       "\"><span style=\"color: var(--jp-warn-color2)\">prodstatus</span> <span style=\"color: var(--jp-warn-color0)\">WARNING</span>: removing old attachment campaign.yaml from DRP-185</pre>"
      ],
      "text/plain": [
       "<IPython.core.display.HTML object>"
      ]
     },
     "metadata": {},
     "output_type": "display_data"
    },
    {
     "data": {
      "text/html": [
       "<pre style=\"margin: 0.1em;\n",
       "padding-left: 0.25em;\n",
       "border-left-style: solid;\n",
       "font-family: var(--jp-code-font-family);\n",
       "font-size: var(--jp-code-font-size);\n",
       "line-height: var(--jp-code-line-height);\n",
       "\"><span style=\"color: var(--jp-warn-color2)\">prodstatus</span> <span style=\"color: var(--jp-success-color0)\">DEBUG</span>: Added campaign.yaml to DRP-185</pre>"
      ],
      "text/plain": [
       "<IPython.core.display.HTML object>"
      ]
     },
     "metadata": {},
     "output_type": "display_data"
    }
   ],
   "source": [
    "campaign_issue = campaign.to_jira(jira_client, replace=True, cascade=True)"
   ]
  },
  {
   "cell_type": "markdown",
   "id": "158deb42-9d36-42ff-8efc-5a53fd2d2b53",
   "metadata": {},
   "source": [
    "Reread the campaign from jira, and see if we get back what we just saved:"
   ]
  },
  {
   "cell_type": "code",
   "execution_count": 56,
   "id": "eac92b65-1720-4e83-8ca4-1b341ddd23ab",
   "metadata": {},
   "outputs": [
    {
     "data": {
      "text/html": [
       "<pre style=\"margin: 0.1em;\n",
       "padding-left: 0.25em;\n",
       "border-left-style: solid;\n",
       "font-family: var(--jp-code-font-family);\n",
       "font-size: var(--jp-code-font-size);\n",
       "line-height: var(--jp-code-line-height);\n",
       "\"><span style=\"color: var(--jp-warn-color2)\">prodstatus</span> <span style=\"color: var(--jp-success-color0)\">DEBUG</span>: Read campaign.yaml from DRP-185</pre>"
      ],
      "text/plain": [
       "<IPython.core.display.HTML object>"
      ]
     },
     "metadata": {},
     "output_type": "display_data"
    },
    {
     "data": {
      "text/html": [
       "<pre style=\"margin: 0.1em;\n",
       "padding-left: 0.25em;\n",
       "border-left-style: solid;\n",
       "font-family: var(--jp-code-font-family);\n",
       "font-size: var(--jp-code-font-size);\n",
       "line-height: var(--jp-code-line-height);\n",
       "\"><span style=\"color: var(--jp-warn-color2)\">prodstatus</span> <span style=\"color: var(--jp-success-color0)\">DEBUG</span>: Wrote /tmp/tmpek3h7c4z/campaign.yaml</pre>"
      ],
      "text/plain": [
       "<IPython.core.display.HTML object>"
      ]
     },
     "metadata": {},
     "output_type": "display_data"
    },
    {
     "data": {
      "text/html": [
       "<pre style=\"margin: 0.1em;\n",
       "padding-left: 0.25em;\n",
       "border-left-style: solid;\n",
       "font-family: var(--jp-code-font-family);\n",
       "font-size: var(--jp-code-font-size);\n",
       "line-height: var(--jp-code-line-height);\n",
       "\"><span style=\"color: var(--jp-warn-color2)\">prodstatus</span> <span style=\"color: var(--jp-success-color0)\">DEBUG</span>: Read /tmp/tmpek3h7c4z/campaign.yaml</pre>"
      ],
      "text/plain": [
       "<IPython.core.display.HTML object>"
      ]
     },
     "metadata": {},
     "output_type": "display_data"
    },
    {
     "data": {
      "text/html": [
       "<pre style=\"margin: 0.1em;\n",
       "padding-left: 0.25em;\n",
       "border-left-style: solid;\n",
       "font-family: var(--jp-code-font-family);\n",
       "font-size: var(--jp-code-font-size);\n",
       "line-height: var(--jp-code-line-height);\n",
       "\"><span style=\"color: var(--jp-warn-color2)\">prodstatus</span> <span style=\"color: var(--jp-success-color0)\">DEBUG</span>: Read explist.txt from DRP-186</pre>"
      ],
      "text/plain": [
       "<IPython.core.display.HTML object>"
      ]
     },
     "metadata": {},
     "output_type": "display_data"
    },
    {
     "data": {
      "text/html": [
       "<pre style=\"margin: 0.1em;\n",
       "padding-left: 0.25em;\n",
       "border-left-style: solid;\n",
       "font-family: var(--jp-code-font-family);\n",
       "font-size: var(--jp-code-font-size);\n",
       "line-height: var(--jp-code-line-height);\n",
       "\"><span style=\"color: var(--jp-warn-color2)\">prodstatus</span> <span style=\"color: var(--jp-success-color0)\">DEBUG</span>: Wrote /tmp/tmp6gz57_5f/explist.txt</pre>"
      ],
      "text/plain": [
       "<IPython.core.display.HTML object>"
      ]
     },
     "metadata": {},
     "output_type": "display_data"
    },
    {
     "data": {
      "text/html": [
       "<pre style=\"margin: 0.1em;\n",
       "padding-left: 0.25em;\n",
       "border-left-style: solid;\n",
       "font-family: var(--jp-code-font-family);\n",
       "font-size: var(--jp-code-font-size);\n",
       "line-height: var(--jp-code-line-height);\n",
       "\"><span style=\"color: var(--jp-warn-color2)\">prodstatus</span> <span style=\"color: var(--jp-success-color0)\">DEBUG</span>: Read step.yaml from DRP-186</pre>"
      ],
      "text/plain": [
       "<IPython.core.display.HTML object>"
      ]
     },
     "metadata": {},
     "output_type": "display_data"
    },
    {
     "data": {
      "text/html": [
       "<pre style=\"margin: 0.1em;\n",
       "padding-left: 0.25em;\n",
       "border-left-style: solid;\n",
       "font-family: var(--jp-code-font-family);\n",
       "font-size: var(--jp-code-font-size);\n",
       "line-height: var(--jp-code-line-height);\n",
       "\"><span style=\"color: var(--jp-warn-color2)\">prodstatus</span> <span style=\"color: var(--jp-success-color0)\">DEBUG</span>: Wrote /tmp/tmp6gz57_5f/step.yaml</pre>"
      ],
      "text/plain": [
       "<IPython.core.display.HTML object>"
      ]
     },
     "metadata": {},
     "output_type": "display_data"
    },
    {
     "data": {
      "text/html": [
       "<pre style=\"margin: 0.1em;\n",
       "padding-left: 0.25em;\n",
       "border-left-style: solid;\n",
       "font-family: var(--jp-code-font-family);\n",
       "font-size: var(--jp-code-font-size);\n",
       "line-height: var(--jp-code-line-height);\n",
       "\"><span style=\"color: var(--jp-warn-color2)\">prodstatus</span> <span style=\"color: var(--jp-success-color0)\">DEBUG</span>: Read /tmp/tmp6gz57_5f/step.yaml</pre>"
      ],
      "text/plain": [
       "<IPython.core.display.HTML object>"
      ]
     },
     "metadata": {},
     "output_type": "display_data"
    },
    {
     "data": {
      "text/html": [
       "<pre style=\"margin: 0.1em;\n",
       "padding-left: 0.25em;\n",
       "border-left-style: solid;\n",
       "font-family: var(--jp-code-font-family);\n",
       "font-size: var(--jp-code-font-size);\n",
       "line-height: var(--jp-code-line-height);\n",
       "\"><span style=\"color: var(--jp-warn-color2)\">prodstatus</span> <span style=\"color: var(--jp-success-color0)\">DEBUG</span>: Created /tmp/tmp6gz57_5f/workflows</pre>"
      ],
      "text/plain": [
       "<IPython.core.display.HTML object>"
      ]
     },
     "metadata": {},
     "output_type": "display_data"
    },
    {
     "data": {
      "text/html": [
       "<pre style=\"margin: 0.1em;\n",
       "padding-left: 0.25em;\n",
       "border-left-style: solid;\n",
       "font-family: var(--jp-code-font-family);\n",
       "font-size: var(--jp-code-font-size);\n",
       "line-height: var(--jp-code-line-height);\n",
       "\"><span style=\"color: var(--jp-warn-color2)\">prodstatus</span> <span style=\"color: var(--jp-success-color0)\">DEBUG</span>: Read bps_config.yaml from DRP-187</pre>"
      ],
      "text/plain": [
       "<IPython.core.display.HTML object>"
      ]
     },
     "metadata": {},
     "output_type": "display_data"
    },
    {
     "data": {
      "text/html": [
       "<pre style=\"margin: 0.1em;\n",
       "padding-left: 0.25em;\n",
       "border-left-style: solid;\n",
       "font-family: var(--jp-code-font-family);\n",
       "font-size: var(--jp-code-font-size);\n",
       "line-height: var(--jp-code-line-height);\n",
       "\"><span style=\"color: var(--jp-warn-color2)\">prodstatus</span> <span style=\"color: var(--jp-success-color0)\">DEBUG</span>: Wrote /tmp/tmpfyk_kssc/bps_config.yaml</pre>"
      ],
      "text/plain": [
       "<IPython.core.display.HTML object>"
      ]
     },
     "metadata": {},
     "output_type": "display_data"
    },
    {
     "data": {
      "text/html": [
       "<pre style=\"margin: 0.1em;\n",
       "padding-left: 0.25em;\n",
       "border-left-style: solid;\n",
       "font-family: var(--jp-code-font-family);\n",
       "font-size: var(--jp-code-font-size);\n",
       "line-height: var(--jp-code-line-height);\n",
       "\"><span style=\"color: var(--jp-warn-color2)\">prodstatus</span> <span style=\"color: var(--jp-success-color0)\">DEBUG</span>: Read explist.txt from DRP-187</pre>"
      ],
      "text/plain": [
       "<IPython.core.display.HTML object>"
      ]
     },
     "metadata": {},
     "output_type": "display_data"
    },
    {
     "data": {
      "text/html": [
       "<pre style=\"margin: 0.1em;\n",
       "padding-left: 0.25em;\n",
       "border-left-style: solid;\n",
       "font-family: var(--jp-code-font-family);\n",
       "font-size: var(--jp-code-font-size);\n",
       "line-height: var(--jp-code-line-height);\n",
       "\"><span style=\"color: var(--jp-warn-color2)\">prodstatus</span> <span style=\"color: var(--jp-success-color0)\">DEBUG</span>: Wrote /tmp/tmpfyk_kssc/explist.txt</pre>"
      ],
      "text/plain": [
       "<IPython.core.display.HTML object>"
      ]
     },
     "metadata": {},
     "output_type": "display_data"
    },
    {
     "data": {
      "text/html": [
       "<pre style=\"margin: 0.1em;\n",
       "padding-left: 0.25em;\n",
       "border-left-style: solid;\n",
       "font-family: var(--jp-code-font-family);\n",
       "font-size: var(--jp-code-font-size);\n",
       "line-height: var(--jp-code-line-height);\n",
       "\"><span style=\"color: var(--jp-warn-color2)\">prodstatus</span> <span style=\"color: var(--jp-success-color0)\">DEBUG</span>: Read workflow.yaml from DRP-187</pre>"
      ],
      "text/plain": [
       "<IPython.core.display.HTML object>"
      ]
     },
     "metadata": {},
     "output_type": "display_data"
    },
    {
     "data": {
      "text/html": [
       "<pre style=\"margin: 0.1em;\n",
       "padding-left: 0.25em;\n",
       "border-left-style: solid;\n",
       "font-family: var(--jp-code-font-family);\n",
       "font-size: var(--jp-code-font-size);\n",
       "line-height: var(--jp-code-line-height);\n",
       "\"><span style=\"color: var(--jp-warn-color2)\">prodstatus</span> <span style=\"color: var(--jp-success-color0)\">DEBUG</span>: Wrote /tmp/tmpfyk_kssc/workflow.yaml</pre>"
      ],
      "text/plain": [
       "<IPython.core.display.HTML object>"
      ]
     },
     "metadata": {},
     "output_type": "display_data"
    },
    {
     "data": {
      "text/html": [
       "<pre style=\"margin: 0.1em;\n",
       "padding-left: 0.25em;\n",
       "border-left-style: solid;\n",
       "font-family: var(--jp-code-font-family);\n",
       "font-size: var(--jp-code-font-size);\n",
       "line-height: var(--jp-code-line-height);\n",
       "\"><span style=\"color: var(--jp-warn-color2)\">prodstatus</span> <span style=\"color: var(--jp-success-color0)\">DEBUG</span>: Read /tmp/tmpfyk_kssc/workflow.yaml</pre>"
      ],
      "text/plain": [
       "<IPython.core.display.HTML object>"
      ]
     },
     "metadata": {},
     "output_type": "display_data"
    },
    {
     "data": {
      "text/html": [
       "<pre style=\"margin: 0.1em;\n",
       "padding-left: 0.25em;\n",
       "border-left-style: solid;\n",
       "font-family: var(--jp-code-font-family);\n",
       "font-size: var(--jp-code-font-size);\n",
       "line-height: var(--jp-code-line-height);\n",
       "\"><span style=\"color: var(--jp-warn-color2)\">prodstatus</span> <span style=\"color: var(--jp-success-color0)\">DEBUG</span>: Read /tmp/tmpfyk_kssc/explist.txt</pre>"
      ],
      "text/plain": [
       "<IPython.core.display.HTML object>"
      ]
     },
     "metadata": {},
     "output_type": "display_data"
    },
    {
     "data": {
      "text/html": [
       "<pre style=\"margin: 0.1em;\n",
       "padding-left: 0.25em;\n",
       "border-left-style: solid;\n",
       "font-family: var(--jp-code-font-family);\n",
       "font-size: var(--jp-code-font-size);\n",
       "line-height: var(--jp-code-line-height);\n",
       "\"><span style=\"color: var(--jp-warn-color2)\">prodstatus</span> <span style=\"color: var(--jp-success-color0)\">DEBUG</span>: Wrote /tmp/tmp6gz57_5f/workflows/Kelly/bps_config.yaml</pre>"
      ],
      "text/plain": [
       "<IPython.core.display.HTML object>"
      ]
     },
     "metadata": {},
     "output_type": "display_data"
    },
    {
     "data": {
      "text/html": [
       "<pre style=\"margin: 0.1em;\n",
       "padding-left: 0.25em;\n",
       "border-left-style: solid;\n",
       "font-family: var(--jp-code-font-family);\n",
       "font-size: var(--jp-code-font-size);\n",
       "line-height: var(--jp-code-line-height);\n",
       "\"><span style=\"color: var(--jp-warn-color2)\">prodstatus</span> <span style=\"color: var(--jp-success-color0)\">DEBUG</span>: Wrote /tmp/tmp6gz57_5f/workflows/Kelly/workflow.yaml</pre>"
      ],
      "text/plain": [
       "<IPython.core.display.HTML object>"
      ]
     },
     "metadata": {},
     "output_type": "display_data"
    },
    {
     "data": {
      "text/html": [
       "<pre style=\"margin: 0.1em;\n",
       "padding-left: 0.25em;\n",
       "border-left-style: solid;\n",
       "font-family: var(--jp-code-font-family);\n",
       "font-size: var(--jp-code-font-size);\n",
       "line-height: var(--jp-code-line-height);\n",
       "\"><span style=\"color: var(--jp-warn-color2)\">prodstatus</span> <span style=\"color: var(--jp-success-color0)\">DEBUG</span>: Wrote /tmp/tmp6gz57_5f/workflows/Kelly/explist.txt</pre>"
      ],
      "text/plain": [
       "<IPython.core.display.HTML object>"
      ]
     },
     "metadata": {},
     "output_type": "display_data"
    },
    {
     "data": {
      "text/html": [
       "<pre style=\"margin: 0.1em;\n",
       "padding-left: 0.25em;\n",
       "border-left-style: solid;\n",
       "font-family: var(--jp-code-font-family);\n",
       "font-size: var(--jp-code-font-size);\n",
       "line-height: var(--jp-code-line-height);\n",
       "\"><span style=\"color: var(--jp-warn-color2)\">prodstatus</span> <span style=\"color: var(--jp-success-color0)\">DEBUG</span>: Read /tmp/tmp6gz57_5f/step.yaml</pre>"
      ],
      "text/plain": [
       "<IPython.core.display.HTML object>"
      ]
     },
     "metadata": {},
     "output_type": "display_data"
    },
    {
     "data": {
      "text/html": [
       "<pre style=\"margin: 0.1em;\n",
       "padding-left: 0.25em;\n",
       "border-left-style: solid;\n",
       "font-family: var(--jp-code-font-family);\n",
       "font-size: var(--jp-code-font-size);\n",
       "line-height: var(--jp-code-line-height);\n",
       "\"><span style=\"color: var(--jp-warn-color2)\">prodstatus</span> <span style=\"color: var(--jp-success-color0)\">DEBUG</span>: Read /tmp/tmp6gz57_5f/workflows/Kelly/workflow.yaml</pre>"
      ],
      "text/plain": [
       "<IPython.core.display.HTML object>"
      ]
     },
     "metadata": {},
     "output_type": "display_data"
    },
    {
     "data": {
      "text/html": [
       "<pre style=\"margin: 0.1em;\n",
       "padding-left: 0.25em;\n",
       "border-left-style: solid;\n",
       "font-family: var(--jp-code-font-family);\n",
       "font-size: var(--jp-code-font-size);\n",
       "line-height: var(--jp-code-line-height);\n",
       "\"><span style=\"color: var(--jp-warn-color2)\">prodstatus</span> <span style=\"color: var(--jp-success-color0)\">DEBUG</span>: Read /tmp/tmp6gz57_5f/workflows/Kelly/explist.txt</pre>"
      ],
      "text/plain": [
       "<IPython.core.display.HTML object>"
      ]
     },
     "metadata": {},
     "output_type": "display_data"
    },
    {
     "data": {
      "text/html": [
       "<pre style=\"margin: 0.1em;\n",
       "padding-left: 0.25em;\n",
       "border-left-style: solid;\n",
       "font-family: var(--jp-code-font-family);\n",
       "font-size: var(--jp-code-font-size);\n",
       "line-height: var(--jp-code-line-height);\n",
       "\"><span style=\"color: var(--jp-warn-color2)\">prodstatus</span> <span style=\"color: var(--jp-success-color0)\">DEBUG</span>: Read /tmp/tmp6gz57_5f/explist.txt</pre>"
      ],
      "text/plain": [
       "<IPython.core.display.HTML object>"
      ]
     },
     "metadata": {},
     "output_type": "display_data"
    },
    {
     "data": {
      "text/html": [
       "<pre style=\"margin: 0.1em;\n",
       "padding-left: 0.25em;\n",
       "border-left-style: solid;\n",
       "font-family: var(--jp-code-font-family);\n",
       "font-size: var(--jp-code-font-size);\n",
       "line-height: var(--jp-code-line-height);\n",
       "\"><span style=\"color: var(--jp-warn-color2)\">prodstatus</span> <span style=\"color: var(--jp-success-color0)\">DEBUG</span>: Wrote /tmp/tmpek3h7c4z/steps/Larry/step.yaml</pre>"
      ],
      "text/plain": [
       "<IPython.core.display.HTML object>"
      ]
     },
     "metadata": {},
     "output_type": "display_data"
    },
    {
     "data": {
      "text/html": [
       "<pre style=\"margin: 0.1em;\n",
       "padding-left: 0.25em;\n",
       "border-left-style: solid;\n",
       "font-family: var(--jp-code-font-family);\n",
       "font-size: var(--jp-code-font-size);\n",
       "line-height: var(--jp-code-line-height);\n",
       "\"><span style=\"color: var(--jp-warn-color2)\">prodstatus</span> <span style=\"color: var(--jp-success-color0)\">DEBUG</span>: Wrote /tmp/tmpek3h7c4z/steps/Larry/explist.txt</pre>"
      ],
      "text/plain": [
       "<IPython.core.display.HTML object>"
      ]
     },
     "metadata": {},
     "output_type": "display_data"
    },
    {
     "data": {
      "text/html": [
       "<pre style=\"margin: 0.1em;\n",
       "padding-left: 0.25em;\n",
       "border-left-style: solid;\n",
       "font-family: var(--jp-code-font-family);\n",
       "font-size: var(--jp-code-font-size);\n",
       "line-height: var(--jp-code-line-height);\n",
       "\"><span style=\"color: var(--jp-warn-color2)\">prodstatus</span> <span style=\"color: var(--jp-success-color0)\">DEBUG</span>: Wrote /tmp/tmpek3h7c4z/steps/Larry/workflows/Kelly/bps_config.yaml</pre>"
      ],
      "text/plain": [
       "<IPython.core.display.HTML object>"
      ]
     },
     "metadata": {},
     "output_type": "display_data"
    },
    {
     "data": {
      "text/html": [
       "<pre style=\"margin: 0.1em;\n",
       "padding-left: 0.25em;\n",
       "border-left-style: solid;\n",
       "font-family: var(--jp-code-font-family);\n",
       "font-size: var(--jp-code-font-size);\n",
       "line-height: var(--jp-code-line-height);\n",
       "\"><span style=\"color: var(--jp-warn-color2)\">prodstatus</span> <span style=\"color: var(--jp-success-color0)\">DEBUG</span>: Wrote /tmp/tmpek3h7c4z/steps/Larry/workflows/Kelly/workflow.yaml</pre>"
      ],
      "text/plain": [
       "<IPython.core.display.HTML object>"
      ]
     },
     "metadata": {},
     "output_type": "display_data"
    },
    {
     "data": {
      "text/html": [
       "<pre style=\"margin: 0.1em;\n",
       "padding-left: 0.25em;\n",
       "border-left-style: solid;\n",
       "font-family: var(--jp-code-font-family);\n",
       "font-size: var(--jp-code-font-size);\n",
       "line-height: var(--jp-code-line-height);\n",
       "\"><span style=\"color: var(--jp-warn-color2)\">prodstatus</span> <span style=\"color: var(--jp-success-color0)\">DEBUG</span>: Wrote /tmp/tmpek3h7c4z/steps/Larry/workflows/Kelly/explist.txt</pre>"
      ],
      "text/plain": [
       "<IPython.core.display.HTML object>"
      ]
     },
     "metadata": {},
     "output_type": "display_data"
    },
    {
     "data": {
      "text/html": [
       "<pre style=\"margin: 0.1em;\n",
       "padding-left: 0.25em;\n",
       "border-left-style: solid;\n",
       "font-family: var(--jp-code-font-family);\n",
       "font-size: var(--jp-code-font-size);\n",
       "line-height: var(--jp-code-line-height);\n",
       "\"><span style=\"color: var(--jp-warn-color2)\">prodstatus</span> <span style=\"color: var(--jp-success-color0)\">DEBUG</span>: Read /tmp/tmpek3h7c4z/campaign.yaml</pre>"
      ],
      "text/plain": [
       "<IPython.core.display.HTML object>"
      ]
     },
     "metadata": {},
     "output_type": "display_data"
    },
    {
     "data": {
      "text/html": [
       "<pre style=\"margin: 0.1em;\n",
       "padding-left: 0.25em;\n",
       "border-left-style: solid;\n",
       "font-family: var(--jp-code-font-family);\n",
       "font-size: var(--jp-code-font-size);\n",
       "line-height: var(--jp-code-line-height);\n",
       "\"><span style=\"color: var(--jp-warn-color2)\">prodstatus</span> <span style=\"color: var(--jp-success-color0)\">DEBUG</span>: Read /tmp/tmpek3h7c4z/steps/Larry/step.yaml</pre>"
      ],
      "text/plain": [
       "<IPython.core.display.HTML object>"
      ]
     },
     "metadata": {},
     "output_type": "display_data"
    },
    {
     "data": {
      "text/html": [
       "<pre style=\"margin: 0.1em;\n",
       "padding-left: 0.25em;\n",
       "border-left-style: solid;\n",
       "font-family: var(--jp-code-font-family);\n",
       "font-size: var(--jp-code-font-size);\n",
       "line-height: var(--jp-code-line-height);\n",
       "\"><span style=\"color: var(--jp-warn-color2)\">prodstatus</span> <span style=\"color: var(--jp-success-color0)\">DEBUG</span>: Read /tmp/tmpek3h7c4z/steps/Larry/workflows/Kelly/workflow.yaml</pre>"
      ],
      "text/plain": [
       "<IPython.core.display.HTML object>"
      ]
     },
     "metadata": {},
     "output_type": "display_data"
    },
    {
     "data": {
      "text/html": [
       "<pre style=\"margin: 0.1em;\n",
       "padding-left: 0.25em;\n",
       "border-left-style: solid;\n",
       "font-family: var(--jp-code-font-family);\n",
       "font-size: var(--jp-code-font-size);\n",
       "line-height: var(--jp-code-line-height);\n",
       "\"><span style=\"color: var(--jp-warn-color2)\">prodstatus</span> <span style=\"color: var(--jp-success-color0)\">DEBUG</span>: Read /tmp/tmpek3h7c4z/steps/Larry/workflows/Kelly/explist.txt</pre>"
      ],
      "text/plain": [
       "<IPython.core.display.HTML object>"
      ]
     },
     "metadata": {},
     "output_type": "display_data"
    },
    {
     "data": {
      "text/html": [
       "<pre style=\"margin: 0.1em;\n",
       "padding-left: 0.25em;\n",
       "border-left-style: solid;\n",
       "font-family: var(--jp-code-font-family);\n",
       "font-size: var(--jp-code-font-size);\n",
       "line-height: var(--jp-code-line-height);\n",
       "\"><span style=\"color: var(--jp-warn-color2)\">prodstatus</span> <span style=\"color: var(--jp-success-color0)\">DEBUG</span>: Read /tmp/tmpek3h7c4z/steps/Larry/explist.txt</pre>"
      ],
      "text/plain": [
       "<IPython.core.display.HTML object>"
      ]
     },
     "metadata": {},
     "output_type": "display_data"
    }
   ],
   "source": [
    "reread_campaign = Campaign.from_jira(jira_client.issue('DRP-185'), jira_client) "
   ]
  },
  {
   "cell_type": "code",
   "execution_count": 57,
   "id": "5f90cb38-b58b-47b4-81b4-7826160469a2",
   "metadata": {},
   "outputs": [
    {
     "name": "stdout",
     "output_type": "stream",
     "text": [
      "Campaign\n",
      "name: Mary\n",
      "issue name: DRP-185\n",
      "steps:\n",
      " - Larry (issue DRP-186) with 1 workflows\n",
      "\n",
      "Step\n",
      "name: Larry\n",
      "issue name: DRP-186\n",
      "split bands: False\n",
      "exposure groups: {}\n",
      "workflows:\n",
      " - Kelly (issue DRP-187) with dataQuery instrument='LSSTCam-imSim' and skymap='DC2'\n",
      "\n",
      "Workflow\n",
      "name: Kelly\n",
      "issue name: DRP-187\n",
      "step: None\n",
      "band: all\n",
      "BPS config dataQuery: instrument='LSSTCam-imSim' and skymap='DC2'\n",
      "number of exposures: 10\n",
      "min exposure id: 1280\n",
      "max exposure id: 9748\n",
      "exposure counts by band: {'g': 6, 'r': 4}\n",
      "\n"
     ]
    }
   ],
   "source": [
    "print(reread_campaign)\n",
    "print()\n",
    "for this_step in reread_campaign.steps:\n",
    "    print(this_step)\n",
    "    print()\n",
    "    for this_workflow in this_step.workflows:\n",
    "        print(this_workflow)"
   ]
  },
  {
   "cell_type": "markdown",
   "id": "26dc7d71-4cd8-4def-8c25-d8ab82612033",
   "metadata": {},
   "source": [
    "Save our reread campaign to a directory, and take a look at what's in the files there:"
   ]
  },
  {
   "cell_type": "code",
   "execution_count": 58,
   "id": "0ca80775-3b51-4c83-a979-662787b7f719",
   "metadata": {},
   "outputs": [
    {
     "data": {
      "text/plain": [
       "PosixPath('/tmp/tmphf9jxbkg')"
      ]
     },
     "execution_count": 58,
     "metadata": {},
     "output_type": "execute_result"
    }
   ],
   "source": [
    "reread_campaign_dir = TemporaryDirectory()\n",
    "reread_campaign_dir_path = Path(reread_campaign_dir.name)\n",
    "reread_campaign_dir_path"
   ]
  },
  {
   "cell_type": "code",
   "execution_count": 59,
   "id": "26efafa6-6042-4d13-a10e-de22927ad8c9",
   "metadata": {},
   "outputs": [
    {
     "data": {
      "text/html": [
       "<pre style=\"margin: 0.1em;\n",
       "padding-left: 0.25em;\n",
       "border-left-style: solid;\n",
       "font-family: var(--jp-code-font-family);\n",
       "font-size: var(--jp-code-font-size);\n",
       "line-height: var(--jp-code-line-height);\n",
       "\"><span style=\"color: var(--jp-warn-color2)\">prodstatus</span> <span style=\"color: var(--jp-success-color0)\">DEBUG</span>: Wrote /tmp/tmphf9jxbkg/Mary/campaign.yaml</pre>"
      ],
      "text/plain": [
       "<IPython.core.display.HTML object>"
      ]
     },
     "metadata": {},
     "output_type": "display_data"
    },
    {
     "data": {
      "text/html": [
       "<pre style=\"margin: 0.1em;\n",
       "padding-left: 0.25em;\n",
       "border-left-style: solid;\n",
       "font-family: var(--jp-code-font-family);\n",
       "font-size: var(--jp-code-font-size);\n",
       "line-height: var(--jp-code-line-height);\n",
       "\"><span style=\"color: var(--jp-warn-color2)\">prodstatus</span> <span style=\"color: var(--jp-success-color0)\">DEBUG</span>: Wrote /tmp/tmphf9jxbkg/Mary/steps/Larry/step.yaml</pre>"
      ],
      "text/plain": [
       "<IPython.core.display.HTML object>"
      ]
     },
     "metadata": {},
     "output_type": "display_data"
    },
    {
     "data": {
      "text/html": [
       "<pre style=\"margin: 0.1em;\n",
       "padding-left: 0.25em;\n",
       "border-left-style: solid;\n",
       "font-family: var(--jp-code-font-family);\n",
       "font-size: var(--jp-code-font-size);\n",
       "line-height: var(--jp-code-line-height);\n",
       "\"><span style=\"color: var(--jp-warn-color2)\">prodstatus</span> <span style=\"color: var(--jp-success-color0)\">DEBUG</span>: Wrote /tmp/tmphf9jxbkg/Mary/steps/Larry/explist.txt</pre>"
      ],
      "text/plain": [
       "<IPython.core.display.HTML object>"
      ]
     },
     "metadata": {},
     "output_type": "display_data"
    },
    {
     "data": {
      "text/html": [
       "<pre style=\"margin: 0.1em;\n",
       "padding-left: 0.25em;\n",
       "border-left-style: solid;\n",
       "font-family: var(--jp-code-font-family);\n",
       "font-size: var(--jp-code-font-size);\n",
       "line-height: var(--jp-code-line-height);\n",
       "\"><span style=\"color: var(--jp-warn-color2)\">prodstatus</span> <span style=\"color: var(--jp-success-color0)\">DEBUG</span>: Wrote /tmp/tmphf9jxbkg/Mary/steps/Larry/workflows/Kelly/bps_config.yaml</pre>"
      ],
      "text/plain": [
       "<IPython.core.display.HTML object>"
      ]
     },
     "metadata": {},
     "output_type": "display_data"
    },
    {
     "data": {
      "text/html": [
       "<pre style=\"margin: 0.1em;\n",
       "padding-left: 0.25em;\n",
       "border-left-style: solid;\n",
       "font-family: var(--jp-code-font-family);\n",
       "font-size: var(--jp-code-font-size);\n",
       "line-height: var(--jp-code-line-height);\n",
       "\"><span style=\"color: var(--jp-warn-color2)\">prodstatus</span> <span style=\"color: var(--jp-success-color0)\">DEBUG</span>: Wrote /tmp/tmphf9jxbkg/Mary/steps/Larry/workflows/Kelly/workflow.yaml</pre>"
      ],
      "text/plain": [
       "<IPython.core.display.HTML object>"
      ]
     },
     "metadata": {},
     "output_type": "display_data"
    },
    {
     "data": {
      "text/html": [
       "<pre style=\"margin: 0.1em;\n",
       "padding-left: 0.25em;\n",
       "border-left-style: solid;\n",
       "font-family: var(--jp-code-font-family);\n",
       "font-size: var(--jp-code-font-size);\n",
       "line-height: var(--jp-code-line-height);\n",
       "\"><span style=\"color: var(--jp-warn-color2)\">prodstatus</span> <span style=\"color: var(--jp-success-color0)\">DEBUG</span>: Wrote /tmp/tmphf9jxbkg/Mary/steps/Larry/workflows/Kelly/explist.txt</pre>"
      ],
      "text/plain": [
       "<IPython.core.display.HTML object>"
      ]
     },
     "metadata": {},
     "output_type": "display_data"
    }
   ],
   "source": [
    "reread_campaign.to_files(reread_campaign_dir_path)"
   ]
  },
  {
   "cell_type": "code",
   "execution_count": 60,
   "id": "ef039a9a-d53c-423d-98b2-579a4b663692",
   "metadata": {},
   "outputs": [
    {
     "name": "stdout",
     "output_type": "stream",
     "text": [
      "/tmp/tmphf9jxbkg/Mary/campaign.yaml\n",
      "/tmp/tmphf9jxbkg/Mary/steps/Larry/step.yaml\n",
      "/tmp/tmphf9jxbkg/Mary/steps/Larry/workflows/Kelly/workflow.yaml\n",
      "/tmp/tmphf9jxbkg/Mary/steps/Larry/workflows/Kelly/bps_config.yaml\n",
      "/tmp/tmphf9jxbkg/Mary/steps/Larry/workflows/Kelly/explist.txt\n",
      "/tmp/tmphf9jxbkg/Mary/steps/Larry/explist.txt\n"
     ]
    }
   ],
   "source": [
    " !find {reread_campaign_dir_path} -type f"
   ]
  },
  {
   "cell_type": "code",
   "execution_count": 61,
   "id": "c01670dc-f057-42d8-8dad-65d810ffd697",
   "metadata": {},
   "outputs": [
    {
     "name": "stdout",
     "output_type": "stream",
     "text": [
      "issue: DRP-185\n",
      "name: Mary\n",
      "steps:\n",
      "    Larry:\n",
      "        exposure_groups: {}\n",
      "        issue: DRP-186\n",
      "        split_bands: false\n"
     ]
    }
   ],
   "source": [
    "!cat {reread_campaign_dir_path}/{campaign.name}/campaign.yaml"
   ]
  },
  {
   "cell_type": "code",
   "execution_count": 62,
   "id": "c120d5d4-fe4f-4458-a0b3-8e5943775bc2",
   "metadata": {},
   "outputs": [
    {
     "name": "stdout",
     "output_type": "stream",
     "text": [
      "exposure_groups: {}\n",
      "issue: DRP-186\n",
      "name: Larry\n",
      "split_bands: false\n",
      "workflows:\n",
      "-   issue: DRP-187\n",
      "    name: Kelly\n"
     ]
    }
   ],
   "source": [
    "!cat {reread_campaign_dir_path}/{campaign.name}/steps/{step.name}/step.yaml"
   ]
  },
  {
   "cell_type": "code",
   "execution_count": 63,
   "id": "2ab97aae-d061-44ee-9f9c-d5fb9ca4c3ac",
   "metadata": {},
   "outputs": [
    {
     "name": "stdout",
     "output_type": "stream",
     "text": [
      "g 1280\n",
      "r 4503\n",
      "g 5130\n",
      "g 5260\n",
      "r 7171\n",
      "r 7352\n",
      "g 7606\n",
      "g 7857\n",
      "g 8396\n",
      "r 9748\n"
     ]
    }
   ],
   "source": [
    "!cat {reread_campaign_dir_path}/{campaign.name}/steps/{step.name}/explist.txt"
   ]
  },
  {
   "cell_type": "code",
   "execution_count": 64,
   "id": "58331b50-3844-4b1a-8cbe-7853b830bc16",
   "metadata": {},
   "outputs": [
    {
     "name": "stdout",
     "output_type": "stream",
     "text": [
      "band: all\n",
      "issue_name: DRP-187\n",
      "name: Kelly\n"
     ]
    }
   ],
   "source": [
    "!cat {reread_campaign_dir_path}/{campaign.name}/steps/{step.name}/workflows/{workflow.name}/workflow.yaml"
   ]
  },
  {
   "cell_type": "markdown",
   "id": "11c004a0-fde3-438a-801a-738aaa360242",
   "metadata": {},
   "source": [
    "## Ideas for future development\n",
    "\n",
    "What I had in mind for future development:\n",
    "\n",
    "1. Expand the `to_jira` methods to capture the relationships between `Campaign`s, `Step`s, and `Workflow`s by adding issue links between issues. (Seach for `issue_link` in the [python API](https://jira.readthedocs.io/api.html).)\n",
    "2. Add new methods to `Campaign`, `Step`, and/or `Workflow` to gather raw data from PanDa and the Butler, and store the data in members of the class. (In this step, what I have in mind is to capture the data returned from PanDa and the Bulter \"as is\", with no additional processing. Additional processing to produce what a human wants to see is in step 4, below. If the collection and processing are separated, it makes it easier to change them independently, and saving the unprocessed data makes sure everything that can be recorded, is.)\n",
    "3. Expand the `from_*` and `to_*` methods to save and load files with the data gathered in 2, if present.\n",
    "4. Add new methods (probably [property methods](https://docs.python.org/3/howto/descriptor.html#properties)) to process the data captured in 2 and create `pandas.DataFrames` with the data as it should be presented to a user.\n",
    "5. Expand the `to_jira` methods of each to use `tabulate` to convert `pandas.DataFrames` generated by the step 4 methods to `jira` markup, and add them to the description or comments of the issues.\n",
    "6. Make CLI commands (using click) built on these classes that do things like \n",
    " - create campaigns, steps, and workflows from scratch\n",
    " \n",
    "update campaigns, steps, and workflows in jira based on local directories, and vice versa\n",
    " 6.2 add and remove steps from campaigns\n",
    " 6.4 add and remove workflows from steps\n",
    " 6.5 print tables generated by step 4 methods to the terminal"
   ]
  },
  {
   "cell_type": "code",
   "execution_count": null,
   "id": "425f8604-9acd-4613-96e3-858c534c7915",
   "metadata": {},
   "outputs": [],
   "source": []
  }
 ],
 "metadata": {
  "kernelspec": {
   "display_name": "LSST",
   "language": "python",
   "name": "lsst"
  },
  "language_info": {
   "codemirror_mode": {
    "name": "ipython",
    "version": 3
   },
   "file_extension": ".py",
   "mimetype": "text/x-python",
   "name": "python",
   "nbconvert_exporter": "python",
   "pygments_lexer": "ipython3",
   "version": "3.8.8"
  }
 },
 "nbformat": 4,
 "nbformat_minor": 5
}
